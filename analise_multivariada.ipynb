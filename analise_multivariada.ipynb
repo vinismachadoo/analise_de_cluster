{
  "nbformat": 4,
  "nbformat_minor": 0,
  "metadata": {
    "colab": {
      "name": "analise_multivariada.ipynb",
      "provenance": [],
      "include_colab_link": true
    },
    "kernelspec": {
      "name": "python3",
      "display_name": "Python 3"
    }
  },
  "cells": [
    {
      "cell_type": "markdown",
      "metadata": {
        "id": "view-in-github",
        "colab_type": "text"
      },
      "source": [
        "<a href=\"https://colab.research.google.com/github/vinismachadoo/analise_de_cluster/blob/main/analise_multivariada.ipynb\" target=\"_parent\"><img src=\"https://colab.research.google.com/assets/colab-badge.svg\" alt=\"Open In Colab\"/></a>"
      ]
    },
    {
      "cell_type": "code",
      "metadata": {
        "id": "BXL2weZSCr8T"
      },
      "source": [
        "!pip install factor_analyzer --quiet"
      ],
      "execution_count": 1,
      "outputs": []
    },
    {
      "cell_type": "code",
      "metadata": {
        "id": "VuuxA95tDm49"
      },
      "source": [
        "from math import *\n",
        "import numpy as np\n",
        "import pandas as pd\n",
        "import matplotlib.pyplot as plt\n",
        "import seaborn as sns\n",
        "from matplotlib.ticker import FormatStrFormatter\n",
        "from factor_analyzer import *\n",
        "from sklearn.preprocessing import StandardScaler\n",
        "from sklearn.decomposition import PCA"
      ],
      "execution_count": 2,
      "outputs": []
    },
    {
      "cell_type": "code",
      "metadata": {
        "id": "dhEtOebCD-Vb"
      },
      "source": [
        "df = pd.read_csv('https://raw.githubusercontent.com/vinismachadoo/analise_de_cluster/main/atletas_australianos.csv', sep=';')"
      ],
      "execution_count": 3,
      "outputs": []
    },
    {
      "cell_type": "code",
      "metadata": {
        "id": "MV1onfhUFjRF",
        "outputId": "b53fa4df-c2e0-4d33-c83e-7ad486653654",
        "colab": {
          "base_uri": "https://localhost:8080/",
          "height": 68
        }
      },
      "source": [
        "df.columns"
      ],
      "execution_count": 4,
      "outputs": [
        {
          "output_type": "execute_result",
          "data": {
            "text/plain": [
              "Index(['rcc', 'wcc', 'hc', 'hg', 'ferr', 'bmi', 'ssf', 'bfat', 'lbm', 'ht',\n",
              "       'wt', 'sex', 'sport'],\n",
              "      dtype='object')"
            ]
          },
          "metadata": {
            "tags": []
          },
          "execution_count": 4
        }
      ]
    },
    {
      "cell_type": "code",
      "metadata": {
        "id": "kzcXJ8DtjIZU"
      },
      "source": [
        "atletas_femininas = df[df['sex'] == 'f'].reset_index(drop=True)"
      ],
      "execution_count": 5,
      "outputs": []
    },
    {
      "cell_type": "code",
      "metadata": {
        "id": "3nu0nECtjvdf"
      },
      "source": [
        "fem_data = atletas_femininas.iloc[:,:-2]"
      ],
      "execution_count": 6,
      "outputs": []
    },
    {
      "cell_type": "code",
      "metadata": {
        "id": "qhctXVlplZGG",
        "outputId": "1c78af4e-12e7-4395-d82d-fc4a873532b4",
        "colab": {
          "base_uri": "https://localhost:8080/",
          "height": 34
        }
      },
      "source": [
        "chi_square_value_fem, p_value_fem = calculate_bartlett_sphericity(fem_data)\n",
        "chi_square_value_fem, p_value_fem"
      ],
      "execution_count": 7,
      "outputs": [
        {
          "output_type": "execute_result",
          "data": {
            "text/plain": [
              "(1669.5068937838762, 1.8713573431e-313)"
            ]
          },
          "metadata": {
            "tags": []
          },
          "execution_count": 7
        }
      ]
    },
    {
      "cell_type": "code",
      "metadata": {
        "id": "Srd68rMcluws",
        "outputId": "323ed9d3-5287-4a39-a506-56dfc1a81a12",
        "colab": {
          "base_uri": "https://localhost:8080/",
          "height": 34
        }
      },
      "source": [
        "_, kmo_model_fem = calculate_kmo(fem_data)\n",
        "kmo_model_fem"
      ],
      "execution_count": 8,
      "outputs": [
        {
          "output_type": "execute_result",
          "data": {
            "text/plain": [
              "0.6081642807157686"
            ]
          },
          "metadata": {
            "tags": []
          },
          "execution_count": 8
        }
      ]
    },
    {
      "cell_type": "code",
      "metadata": {
        "id": "QkC4zIT9mKjD",
        "outputId": "70dda19e-edea-4841-cc00-4f3c2f464920",
        "colab": {
          "base_uri": "https://localhost:8080/",
          "height": 390
        }
      },
      "source": [
        "fem_data_scaled = StandardScaler().fit_transform(fem_data)\n",
        "cov_mat_fem = np.cov(fem_data_scaled.T, bias=True)\n",
        "pd.DataFrame(cov_mat_fem)"
      ],
      "execution_count": 9,
      "outputs": [
        {
          "output_type": "execute_result",
          "data": {
            "text/html": [
              "<div>\n",
              "<style scoped>\n",
              "    .dataframe tbody tr th:only-of-type {\n",
              "        vertical-align: middle;\n",
              "    }\n",
              "\n",
              "    .dataframe tbody tr th {\n",
              "        vertical-align: top;\n",
              "    }\n",
              "\n",
              "    .dataframe thead th {\n",
              "        text-align: right;\n",
              "    }\n",
              "</style>\n",
              "<table border=\"1\" class=\"dataframe\">\n",
              "  <thead>\n",
              "    <tr style=\"text-align: right;\">\n",
              "      <th></th>\n",
              "      <th>0</th>\n",
              "      <th>1</th>\n",
              "      <th>2</th>\n",
              "      <th>3</th>\n",
              "      <th>4</th>\n",
              "      <th>5</th>\n",
              "      <th>6</th>\n",
              "      <th>7</th>\n",
              "      <th>8</th>\n",
              "      <th>9</th>\n",
              "      <th>10</th>\n",
              "    </tr>\n",
              "  </thead>\n",
              "  <tbody>\n",
              "    <tr>\n",
              "      <th>0</th>\n",
              "      <td>1.000000</td>\n",
              "      <td>0.248515</td>\n",
              "      <td>0.854882</td>\n",
              "      <td>0.778364</td>\n",
              "      <td>-0.086220</td>\n",
              "      <td>-0.006526</td>\n",
              "      <td>-0.163352</td>\n",
              "      <td>-0.167841</td>\n",
              "      <td>0.063087</td>\n",
              "      <td>-0.028385</td>\n",
              "      <td>-0.020227</td>\n",
              "    </tr>\n",
              "    <tr>\n",
              "      <th>1</th>\n",
              "      <td>0.248515</td>\n",
              "      <td>1.000000</td>\n",
              "      <td>0.196764</td>\n",
              "      <td>0.205821</td>\n",
              "      <td>-0.027761</td>\n",
              "      <td>0.122050</td>\n",
              "      <td>0.109380</td>\n",
              "      <td>0.106142</td>\n",
              "      <td>-0.007314</td>\n",
              "      <td>-0.074300</td>\n",
              "      <td>0.048204</td>\n",
              "    </tr>\n",
              "    <tr>\n",
              "      <th>2</th>\n",
              "      <td>0.854882</td>\n",
              "      <td>0.196764</td>\n",
              "      <td>1.000000</td>\n",
              "      <td>0.903561</td>\n",
              "      <td>-0.124035</td>\n",
              "      <td>-0.025460</td>\n",
              "      <td>-0.259569</td>\n",
              "      <td>-0.234821</td>\n",
              "      <td>0.093657</td>\n",
              "      <td>-0.019257</td>\n",
              "      <td>-0.031596</td>\n",
              "    </tr>\n",
              "    <tr>\n",
              "      <th>3</th>\n",
              "      <td>0.778364</td>\n",
              "      <td>0.205821</td>\n",
              "      <td>0.903561</td>\n",
              "      <td>1.000000</td>\n",
              "      <td>-0.031793</td>\n",
              "      <td>0.128661</td>\n",
              "      <td>-0.169571</td>\n",
              "      <td>-0.147775</td>\n",
              "      <td>0.187467</td>\n",
              "      <td>-0.042118</td>\n",
              "      <td>0.079007</td>\n",
              "    </tr>\n",
              "    <tr>\n",
              "      <th>4</th>\n",
              "      <td>-0.086220</td>\n",
              "      <td>-0.027761</td>\n",
              "      <td>-0.124035</td>\n",
              "      <td>-0.031793</td>\n",
              "      <td>1.000000</td>\n",
              "      <td>0.144706</td>\n",
              "      <td>0.167647</td>\n",
              "      <td>0.144424</td>\n",
              "      <td>-0.048358</td>\n",
              "      <td>-0.154549</td>\n",
              "      <td>0.033060</td>\n",
              "    </tr>\n",
              "    <tr>\n",
              "      <th>5</th>\n",
              "      <td>-0.006526</td>\n",
              "      <td>0.122050</td>\n",
              "      <td>-0.025460</td>\n",
              "      <td>0.128661</td>\n",
              "      <td>0.144706</td>\n",
              "      <td>1.000000</td>\n",
              "      <td>0.660127</td>\n",
              "      <td>0.636756</td>\n",
              "      <td>0.733125</td>\n",
              "      <td>0.111858</td>\n",
              "      <td>0.844393</td>\n",
              "    </tr>\n",
              "    <tr>\n",
              "      <th>6</th>\n",
              "      <td>-0.163352</td>\n",
              "      <td>0.109380</td>\n",
              "      <td>-0.259569</td>\n",
              "      <td>-0.169571</td>\n",
              "      <td>0.167647</td>\n",
              "      <td>0.660127</td>\n",
              "      <td>1.000000</td>\n",
              "      <td>0.968184</td>\n",
              "      <td>0.351907</td>\n",
              "      <td>0.352872</td>\n",
              "      <td>0.712511</td>\n",
              "    </tr>\n",
              "    <tr>\n",
              "      <th>7</th>\n",
              "      <td>-0.167841</td>\n",
              "      <td>0.106142</td>\n",
              "      <td>-0.234821</td>\n",
              "      <td>-0.147775</td>\n",
              "      <td>0.144424</td>\n",
              "      <td>0.636756</td>\n",
              "      <td>0.968184</td>\n",
              "      <td>1.000000</td>\n",
              "      <td>0.339801</td>\n",
              "      <td>0.385147</td>\n",
              "      <td>0.710503</td>\n",
              "    </tr>\n",
              "    <tr>\n",
              "      <th>8</th>\n",
              "      <td>0.063087</td>\n",
              "      <td>-0.007314</td>\n",
              "      <td>0.093657</td>\n",
              "      <td>0.187467</td>\n",
              "      <td>-0.048358</td>\n",
              "      <td>0.733125</td>\n",
              "      <td>0.351907</td>\n",
              "      <td>0.339801</td>\n",
              "      <td>1.000000</td>\n",
              "      <td>0.609107</td>\n",
              "      <td>0.899828</td>\n",
              "    </tr>\n",
              "    <tr>\n",
              "      <th>9</th>\n",
              "      <td>-0.028385</td>\n",
              "      <td>-0.074300</td>\n",
              "      <td>-0.019257</td>\n",
              "      <td>-0.042118</td>\n",
              "      <td>-0.154549</td>\n",
              "      <td>0.111858</td>\n",
              "      <td>0.352872</td>\n",
              "      <td>0.385147</td>\n",
              "      <td>0.609107</td>\n",
              "      <td>1.000000</td>\n",
              "      <td>0.623528</td>\n",
              "    </tr>\n",
              "    <tr>\n",
              "      <th>10</th>\n",
              "      <td>-0.020227</td>\n",
              "      <td>0.048204</td>\n",
              "      <td>-0.031596</td>\n",
              "      <td>0.079007</td>\n",
              "      <td>0.033060</td>\n",
              "      <td>0.844393</td>\n",
              "      <td>0.712511</td>\n",
              "      <td>0.710503</td>\n",
              "      <td>0.899828</td>\n",
              "      <td>0.623528</td>\n",
              "      <td>1.000000</td>\n",
              "    </tr>\n",
              "  </tbody>\n",
              "</table>\n",
              "</div>"
            ],
            "text/plain": [
              "          0         1         2   ...        8         9         10\n",
              "0   1.000000  0.248515  0.854882  ...  0.063087 -0.028385 -0.020227\n",
              "1   0.248515  1.000000  0.196764  ... -0.007314 -0.074300  0.048204\n",
              "2   0.854882  0.196764  1.000000  ...  0.093657 -0.019257 -0.031596\n",
              "3   0.778364  0.205821  0.903561  ...  0.187467 -0.042118  0.079007\n",
              "4  -0.086220 -0.027761 -0.124035  ... -0.048358 -0.154549  0.033060\n",
              "5  -0.006526  0.122050 -0.025460  ...  0.733125  0.111858  0.844393\n",
              "6  -0.163352  0.109380 -0.259569  ...  0.351907  0.352872  0.712511\n",
              "7  -0.167841  0.106142 -0.234821  ...  0.339801  0.385147  0.710503\n",
              "8   0.063087 -0.007314  0.093657  ...  1.000000  0.609107  0.899828\n",
              "9  -0.028385 -0.074300 -0.019257  ...  0.609107  1.000000  0.623528\n",
              "10 -0.020227  0.048204 -0.031596  ...  0.899828  0.623528  1.000000\n",
              "\n",
              "[11 rows x 11 columns]"
            ]
          },
          "metadata": {
            "tags": []
          },
          "execution_count": 9
        }
      ]
    },
    {
      "cell_type": "code",
      "metadata": {
        "id": "fgXvAvSmmc-Z",
        "outputId": "0e76a295-fcf3-414e-aff6-846980aaea8c",
        "colab": {
          "base_uri": "https://localhost:8080/",
          "height": 390
        }
      },
      "source": [
        "fig, ax = plt.subplots(figsize=(7,6))\n",
        "\n",
        "sns.heatmap(cov_mat_fem, cmap='spring', vmin=-1, vmax=1, ax=ax)\n",
        "ax.set_xticklabels(fem_data.columns)\n",
        "ax.set_yticklabels(fem_data.columns)\n",
        "ax.set_title('Female Covariance Matrix')\n",
        "\n",
        "plt.show()"
      ],
      "execution_count": 10,
      "outputs": [
        {
          "output_type": "display_data",
          "data": {
            "image/png": "[encoded data removed]",
            "text/plain": [
              "<Figure size 504x432 with 2 Axes>"
            ]
          },
          "metadata": {
            "tags": [],
            "needs_background": "light"
          }
        }
      ]
    },
    {
      "cell_type": "code",
      "metadata": {
        "id": "Rl5GbnUNncxn",
        "outputId": "3101972e-21bd-417f-f35b-98ae366ee991",
        "colab": {
          "base_uri": "https://localhost:8080/",
          "height": 68
        }
      },
      "source": [
        "fa_fem = FactorAnalyzer(4, 'varimax')\n",
        "fa_fem.fit(fem_data)"
      ],
      "execution_count": 11,
      "outputs": [
        {
          "output_type": "execute_result",
          "data": {
            "text/plain": [
              "FactorAnalyzer(bounds=(0.005, 1), impute='median', is_corr_matrix=False,\n",
              "               method='minres', n_factors=4, rotation='varimax',\n",
              "               rotation_kwargs={}, use_smc=True)"
            ]
          },
          "metadata": {
            "tags": []
          },
          "execution_count": 11
        }
      ]
    },
    {
      "cell_type": "code",
      "metadata": {
        "id": "nkg9CG9gncl5",
        "outputId": "57a9f0e8-2912-4b2f-ee25-e662f0c2454b",
        "colab": {
          "base_uri": "https://localhost:8080/",
          "height": 390
        }
      },
      "source": [
        "evs_fem, _ = fa_fem.get_eigenvalues()\n",
        "values_fem = {'Eigenvalues': evs_fem, 'Explanation': [ev*100/sum(evs_fem) for ev in evs_fem]}\n",
        "pd.DataFrame(values_fem)"
      ],
      "execution_count": 12,
      "outputs": [
        {
          "output_type": "execute_result",
          "data": {
            "text/html": [
              "<div>\n",
              "<style scoped>\n",
              "    .dataframe tbody tr th:only-of-type {\n",
              "        vertical-align: middle;\n",
              "    }\n",
              "\n",
              "    .dataframe tbody tr th {\n",
              "        vertical-align: top;\n",
              "    }\n",
              "\n",
              "    .dataframe thead th {\n",
              "        text-align: right;\n",
              "    }\n",
              "</style>\n",
              "<table border=\"1\" class=\"dataframe\">\n",
              "  <thead>\n",
              "    <tr style=\"text-align: right;\">\n",
              "      <th></th>\n",
              "      <th>Eigenvalues</th>\n",
              "      <th>Explanation</th>\n",
              "    </tr>\n",
              "  </thead>\n",
              "  <tbody>\n",
              "    <tr>\n",
              "      <th>0</th>\n",
              "      <td>4.091319</td>\n",
              "      <td>37.193807</td>\n",
              "    </tr>\n",
              "    <tr>\n",
              "      <th>1</th>\n",
              "      <td>2.876973</td>\n",
              "      <td>26.154303</td>\n",
              "    </tr>\n",
              "    <tr>\n",
              "      <th>2</th>\n",
              "      <td>1.341806</td>\n",
              "      <td>12.198235</td>\n",
              "    </tr>\n",
              "    <tr>\n",
              "      <th>3</th>\n",
              "      <td>0.982033</td>\n",
              "      <td>8.927569</td>\n",
              "    </tr>\n",
              "    <tr>\n",
              "      <th>4</th>\n",
              "      <td>0.735492</td>\n",
              "      <td>6.686287</td>\n",
              "    </tr>\n",
              "    <tr>\n",
              "      <th>5</th>\n",
              "      <td>0.659397</td>\n",
              "      <td>5.994521</td>\n",
              "    </tr>\n",
              "    <tr>\n",
              "      <th>6</th>\n",
              "      <td>0.210403</td>\n",
              "      <td>1.912754</td>\n",
              "    </tr>\n",
              "    <tr>\n",
              "      <th>7</th>\n",
              "      <td>0.069541</td>\n",
              "      <td>0.632186</td>\n",
              "    </tr>\n",
              "    <tr>\n",
              "      <th>8</th>\n",
              "      <td>0.029219</td>\n",
              "      <td>0.265629</td>\n",
              "    </tr>\n",
              "    <tr>\n",
              "      <th>9</th>\n",
              "      <td>0.002407</td>\n",
              "      <td>0.021879</td>\n",
              "    </tr>\n",
              "    <tr>\n",
              "      <th>10</th>\n",
              "      <td>0.001411</td>\n",
              "      <td>0.012830</td>\n",
              "    </tr>\n",
              "  </tbody>\n",
              "</table>\n",
              "</div>"
            ],
            "text/plain": [
              "    Eigenvalues  Explanation\n",
              "0      4.091319    37.193807\n",
              "1      2.876973    26.154303\n",
              "2      1.341806    12.198235\n",
              "3      0.982033     8.927569\n",
              "4      0.735492     6.686287\n",
              "5      0.659397     5.994521\n",
              "6      0.210403     1.912754\n",
              "7      0.069541     0.632186\n",
              "8      0.029219     0.265629\n",
              "9      0.002407     0.021879\n",
              "10     0.001411     0.012830"
            ]
          },
          "metadata": {
            "tags": []
          },
          "execution_count": 12
        }
      ]
    },
    {
      "cell_type": "code",
      "metadata": {
        "id": "bDiCoOfrn_zG",
        "outputId": "87accba7-573c-4fa8-f4e5-1b6f2660a18f",
        "colab": {
          "base_uri": "https://localhost:8080/",
          "height": 404
        }
      },
      "source": [
        "fig, ax = plt.subplots(figsize=(10,6))\n",
        "\n",
        "ax.plot(evs_fem, '-o', c='deeppink', )\n",
        "ax.yaxis.set_major_formatter(FormatStrFormatter('%.1f'))\n",
        "ax.set_title('Scree Plot Female')\n",
        "ax.set_xlabel('Factors')\n",
        "ax.set_ylabel('Eigenvalues')\n",
        "\n",
        "plt.show()"
      ],
      "execution_count": 13,
      "outputs": [
        {
          "output_type": "display_data",
          "data": {
            "image/png": "[encoded data removed]",
            "text/plain": [
              "<Figure size 720x432 with 1 Axes>"
            ]
          },
          "metadata": {
            "tags": [],
            "needs_background": "light"
          }
        }
      ]
    },
    {
      "cell_type": "code",
      "metadata": {
        "id": "KuNGU8SFrUpj",
        "outputId": "6649f913-5029-45ae-fcba-76f0b297552e",
        "colab": {
          "base_uri": "https://localhost:8080/",
          "height": 390
        }
      },
      "source": [
        "communalities_fem = fa_fem.get_communalities()\n",
        "pd.DataFrame(communalities_fem, index = fem_data.columns, columns=['Communalities'])"
      ],
      "execution_count": 14,
      "outputs": [
        {
          "output_type": "execute_result",
          "data": {
            "text/html": [
              "<div>\n",
              "<style scoped>\n",
              "    .dataframe tbody tr th:only-of-type {\n",
              "        vertical-align: middle;\n",
              "    }\n",
              "\n",
              "    .dataframe tbody tr th {\n",
              "        vertical-align: top;\n",
              "    }\n",
              "\n",
              "    .dataframe thead th {\n",
              "        text-align: right;\n",
              "    }\n",
              "</style>\n",
              "<table border=\"1\" class=\"dataframe\">\n",
              "  <thead>\n",
              "    <tr style=\"text-align: right;\">\n",
              "      <th></th>\n",
              "      <th>Communalities</th>\n",
              "    </tr>\n",
              "  </thead>\n",
              "  <tbody>\n",
              "    <tr>\n",
              "      <th>rcc</th>\n",
              "      <td>0.761736</td>\n",
              "    </tr>\n",
              "    <tr>\n",
              "      <th>wcc</th>\n",
              "      <td>0.099683</td>\n",
              "    </tr>\n",
              "    <tr>\n",
              "      <th>hc</th>\n",
              "      <td>0.980268</td>\n",
              "    </tr>\n",
              "    <tr>\n",
              "      <th>hg</th>\n",
              "      <td>0.839091</td>\n",
              "    </tr>\n",
              "    <tr>\n",
              "      <th>ferr</th>\n",
              "      <td>0.077589</td>\n",
              "    </tr>\n",
              "    <tr>\n",
              "      <th>bmi</th>\n",
              "      <td>0.996468</td>\n",
              "    </tr>\n",
              "    <tr>\n",
              "      <th>ssf</th>\n",
              "      <td>0.978471</td>\n",
              "    </tr>\n",
              "    <tr>\n",
              "      <th>bfat</th>\n",
              "      <td>0.963548</td>\n",
              "    </tr>\n",
              "    <tr>\n",
              "      <th>lbm</th>\n",
              "      <td>0.997421</td>\n",
              "    </tr>\n",
              "    <tr>\n",
              "      <th>ht</th>\n",
              "      <td>0.996595</td>\n",
              "    </tr>\n",
              "    <tr>\n",
              "      <th>wt</th>\n",
              "      <td>0.997506</td>\n",
              "    </tr>\n",
              "  </tbody>\n",
              "</table>\n",
              "</div>"
            ],
            "text/plain": [
              "      Communalities\n",
              "rcc        0.761736\n",
              "wcc        0.099683\n",
              "hc         0.980268\n",
              "hg         0.839091\n",
              "ferr       0.077589\n",
              "bmi        0.996468\n",
              "ssf        0.978471\n",
              "bfat       0.963548\n",
              "lbm        0.997421\n",
              "ht         0.996595\n",
              "wt         0.997506"
            ]
          },
          "metadata": {
            "tags": []
          },
          "execution_count": 14
        }
      ]
    },
    {
      "cell_type": "code",
      "metadata": {
        "id": "mPskEPqUrJ4h",
        "outputId": "36d59992-f825-4a5b-d7e2-e6fb0be675b8",
        "colab": {
          "base_uri": "https://localhost:8080/",
          "height": 390
        }
      },
      "source": [
        "loadings_fem = fa_fem.loadings_\n",
        "pd.DataFrame(loadings_fem, index = fem_data.columns)"
      ],
      "execution_count": 15,
      "outputs": [
        {
          "output_type": "execute_result",
          "data": {
            "text/html": [
              "<div>\n",
              "<style scoped>\n",
              "    .dataframe tbody tr th:only-of-type {\n",
              "        vertical-align: middle;\n",
              "    }\n",
              "\n",
              "    .dataframe tbody tr th {\n",
              "        vertical-align: top;\n",
              "    }\n",
              "\n",
              "    .dataframe thead th {\n",
              "        text-align: right;\n",
              "    }\n",
              "</style>\n",
              "<table border=\"1\" class=\"dataframe\">\n",
              "  <thead>\n",
              "    <tr style=\"text-align: right;\">\n",
              "      <th></th>\n",
              "      <th>0</th>\n",
              "      <th>1</th>\n",
              "      <th>2</th>\n",
              "      <th>3</th>\n",
              "    </tr>\n",
              "  </thead>\n",
              "  <tbody>\n",
              "    <tr>\n",
              "      <th>rcc</th>\n",
              "      <td>-0.016395</td>\n",
              "      <td>0.864686</td>\n",
              "      <td>-0.085467</td>\n",
              "      <td>0.080510</td>\n",
              "    </tr>\n",
              "    <tr>\n",
              "      <th>wcc</th>\n",
              "      <td>-0.002870</td>\n",
              "      <td>0.267354</td>\n",
              "      <td>0.138636</td>\n",
              "      <td>-0.094747</td>\n",
              "    </tr>\n",
              "    <tr>\n",
              "      <th>hc</th>\n",
              "      <td>0.011139</td>\n",
              "      <td>0.965515</td>\n",
              "      <td>-0.178974</td>\n",
              "      <td>0.126066</td>\n",
              "    </tr>\n",
              "    <tr>\n",
              "      <th>hg</th>\n",
              "      <td>0.142037</td>\n",
              "      <td>0.895564</td>\n",
              "      <td>-0.128668</td>\n",
              "      <td>0.018064</td>\n",
              "    </tr>\n",
              "    <tr>\n",
              "      <th>ferr</th>\n",
              "      <td>0.020878</td>\n",
              "      <td>-0.057084</td>\n",
              "      <td>0.143958</td>\n",
              "      <td>-0.230587</td>\n",
              "    </tr>\n",
              "    <tr>\n",
              "      <th>bmi</th>\n",
              "      <td>0.838563</td>\n",
              "      <td>0.083248</td>\n",
              "      <td>0.428690</td>\n",
              "      <td>-0.320274</td>\n",
              "    </tr>\n",
              "    <tr>\n",
              "      <th>ssf</th>\n",
              "      <td>0.309432</td>\n",
              "      <td>-0.095343</td>\n",
              "      <td>0.934038</td>\n",
              "      <td>-0.034716</td>\n",
              "    </tr>\n",
              "    <tr>\n",
              "      <th>bfat</th>\n",
              "      <td>0.291407</td>\n",
              "      <td>-0.082260</td>\n",
              "      <td>0.933699</td>\n",
              "      <td>0.008357</td>\n",
              "    </tr>\n",
              "    <tr>\n",
              "      <th>lbm</th>\n",
              "      <td>0.944182</td>\n",
              "      <td>0.064109</td>\n",
              "      <td>0.077307</td>\n",
              "      <td>0.309606</td>\n",
              "    </tr>\n",
              "    <tr>\n",
              "      <th>ht</th>\n",
              "      <td>0.334482</td>\n",
              "      <td>-0.082123</td>\n",
              "      <td>0.290834</td>\n",
              "      <td>0.890724</td>\n",
              "    </tr>\n",
              "    <tr>\n",
              "      <th>wt</th>\n",
              "      <td>0.835946</td>\n",
              "      <td>0.020864</td>\n",
              "      <td>0.497189</td>\n",
              "      <td>0.225983</td>\n",
              "    </tr>\n",
              "  </tbody>\n",
              "</table>\n",
              "</div>"
            ],
            "text/plain": [
              "             0         1         2         3\n",
              "rcc  -0.016395  0.864686 -0.085467  0.080510\n",
              "wcc  -0.002870  0.267354  0.138636 -0.094747\n",
              "hc    0.011139  0.965515 -0.178974  0.126066\n",
              "hg    0.142037  0.895564 -0.128668  0.018064\n",
              "ferr  0.020878 -0.057084  0.143958 -0.230587\n",
              "bmi   0.838563  0.083248  0.428690 -0.320274\n",
              "ssf   0.309432 -0.095343  0.934038 -0.034716\n",
              "bfat  0.291407 -0.082260  0.933699  0.008357\n",
              "lbm   0.944182  0.064109  0.077307  0.309606\n",
              "ht    0.334482 -0.082123  0.290834  0.890724\n",
              "wt    0.835946  0.020864  0.497189  0.225983"
            ]
          },
          "metadata": {
            "tags": []
          },
          "execution_count": 15
        }
      ]
    },
    {
      "cell_type": "code",
      "metadata": {
        "id": "QcRJgGOyrhGr",
        "outputId": "5ed722ae-036b-4089-e986-3b696b89d344",
        "colab": {
          "base_uri": "https://localhost:8080/",
          "height": 142
        }
      },
      "source": [
        "factor_variances_fem = fa_fem.get_factor_variance()\n",
        "pd.DataFrame(factor_variances_fem, index = ['Variance','Proportional variances','Cumulative variances'])"
      ],
      "execution_count": 16,
      "outputs": [
        {
          "output_type": "execute_result",
          "data": {
            "text/html": [
              "<div>\n",
              "<style scoped>\n",
              "    .dataframe tbody tr th:only-of-type {\n",
              "        vertical-align: middle;\n",
              "    }\n",
              "\n",
              "    .dataframe tbody tr th {\n",
              "        vertical-align: top;\n",
              "    }\n",
              "\n",
              "    .dataframe thead th {\n",
              "        text-align: right;\n",
              "    }\n",
              "</style>\n",
              "<table border=\"1\" class=\"dataframe\">\n",
              "  <thead>\n",
              "    <tr style=\"text-align: right;\">\n",
              "      <th></th>\n",
              "      <th>0</th>\n",
              "      <th>1</th>\n",
              "      <th>2</th>\n",
              "      <th>3</th>\n",
              "    </tr>\n",
              "  </thead>\n",
              "  <tbody>\n",
              "    <tr>\n",
              "      <th>Variance</th>\n",
              "      <td>2.607028</td>\n",
              "      <td>2.590748</td>\n",
              "      <td>2.361590</td>\n",
              "      <td>1.129011</td>\n",
              "    </tr>\n",
              "    <tr>\n",
              "      <th>Proportional variances</th>\n",
              "      <td>0.237003</td>\n",
              "      <td>0.235523</td>\n",
              "      <td>0.214690</td>\n",
              "      <td>0.102637</td>\n",
              "    </tr>\n",
              "    <tr>\n",
              "      <th>Cumulative variances</th>\n",
              "      <td>0.237003</td>\n",
              "      <td>0.472525</td>\n",
              "      <td>0.687215</td>\n",
              "      <td>0.789853</td>\n",
              "    </tr>\n",
              "  </tbody>\n",
              "</table>\n",
              "</div>"
            ],
            "text/plain": [
              "                               0         1         2         3\n",
              "Variance                2.607028  2.590748  2.361590  1.129011\n",
              "Proportional variances  0.237003  0.235523  0.214690  0.102637\n",
              "Cumulative variances    0.237003  0.472525  0.687215  0.789853"
            ]
          },
          "metadata": {
            "tags": []
          },
          "execution_count": 16
        }
      ]
    },
    {
      "cell_type": "code",
      "metadata": {
        "id": "JkvfF_ybrJtA",
        "outputId": "a3b4da46-6515-4a66-ce3a-ba5047857c83",
        "colab": {
          "base_uri": "https://localhost:8080/",
          "height": 390
        }
      },
      "source": [
        "pca = PCA(2)\n",
        "fem_data_pca_scores = pca.fit_transform(fem_data_scaled)\n",
        "fem_data_pca_components = pca.components_\n",
        "pd.DataFrame(fem_data_pca_components.T, index = fem_data.columns)"
      ],
      "execution_count": 17,
      "outputs": [
        {
          "output_type": "execute_result",
          "data": {
            "text/html": [
              "<div>\n",
              "<style scoped>\n",
              "    .dataframe tbody tr th:only-of-type {\n",
              "        vertical-align: middle;\n",
              "    }\n",
              "\n",
              "    .dataframe tbody tr th {\n",
              "        vertical-align: top;\n",
              "    }\n",
              "\n",
              "    .dataframe thead th {\n",
              "        text-align: right;\n",
              "    }\n",
              "</style>\n",
              "<table border=\"1\" class=\"dataframe\">\n",
              "  <thead>\n",
              "    <tr style=\"text-align: right;\">\n",
              "      <th></th>\n",
              "      <th>0</th>\n",
              "      <th>1</th>\n",
              "    </tr>\n",
              "  </thead>\n",
              "  <tbody>\n",
              "    <tr>\n",
              "      <th>rcc</th>\n",
              "      <td>-0.082982</td>\n",
              "      <td>0.525235</td>\n",
              "    </tr>\n",
              "    <tr>\n",
              "      <th>wcc</th>\n",
              "      <td>0.028717</td>\n",
              "      <td>0.188009</td>\n",
              "    </tr>\n",
              "    <tr>\n",
              "      <th>hc</th>\n",
              "      <td>-0.102543</td>\n",
              "      <td>0.553423</td>\n",
              "    </tr>\n",
              "    <tr>\n",
              "      <th>hg</th>\n",
              "      <td>-0.044652</td>\n",
              "      <td>0.548822</td>\n",
              "    </tr>\n",
              "    <tr>\n",
              "      <th>ferr</th>\n",
              "      <td>0.053476</td>\n",
              "      <td>-0.083403</td>\n",
              "    </tr>\n",
              "    <tr>\n",
              "      <th>bmi</th>\n",
              "      <td>0.410265</td>\n",
              "      <td>0.111522</td>\n",
              "    </tr>\n",
              "    <tr>\n",
              "      <th>ssf</th>\n",
              "      <td>0.424321</td>\n",
              "      <td>-0.076782</td>\n",
              "    </tr>\n",
              "    <tr>\n",
              "      <th>bfat</th>\n",
              "      <td>0.421760</td>\n",
              "      <td>-0.069353</td>\n",
              "    </tr>\n",
              "    <tr>\n",
              "      <th>lbm</th>\n",
              "      <td>0.378207</td>\n",
              "      <td>0.189007</td>\n",
              "    </tr>\n",
              "    <tr>\n",
              "      <th>ht</th>\n",
              "      <td>0.284973</td>\n",
              "      <td>0.050563</td>\n",
              "    </tr>\n",
              "    <tr>\n",
              "      <th>wt</th>\n",
              "      <td>0.475840</td>\n",
              "      <td>0.113663</td>\n",
              "    </tr>\n",
              "  </tbody>\n",
              "</table>\n",
              "</div>"
            ],
            "text/plain": [
              "             0         1\n",
              "rcc  -0.082982  0.525235\n",
              "wcc   0.028717  0.188009\n",
              "hc   -0.102543  0.553423\n",
              "hg   -0.044652  0.548822\n",
              "ferr  0.053476 -0.083403\n",
              "bmi   0.410265  0.111522\n",
              "ssf   0.424321 -0.076782\n",
              "bfat  0.421760 -0.069353\n",
              "lbm   0.378207  0.189007\n",
              "ht    0.284973  0.050563\n",
              "wt    0.475840  0.113663"
            ]
          },
          "metadata": {
            "tags": []
          },
          "execution_count": 17
        }
      ]
    },
    {
      "cell_type": "code",
      "metadata": {
        "id": "cZItZ8hd12IK"
      },
      "source": [
        "fem_data_pca_scores = pd.concat([pd.DataFrame(fem_data_pca_scores), atletas_femininas['sport']], axis=1)"
      ],
      "execution_count": 18,
      "outputs": []
    },
    {
      "cell_type": "code",
      "metadata": {
        "id": "P3U16RrY7fpR",
        "outputId": "9fa4168c-fefc-4db6-8ee0-046dc692663c",
        "colab": {
          "base_uri": "https://localhost:8080/",
          "height": 621
        }
      },
      "source": [
        "fig, ax = plt.subplots(figsize=(10,10))\n",
        "\n",
        "sns.scatterplot(x=fem_data_pca_scores[0]/(fem_data_pca_scores[0].max() - fem_data_pca_scores[0].min()), \n",
        "                y=fem_data_pca_scores[1]/(fem_data_pca_scores[1].max() - fem_data_pca_scores[1].min()), \n",
        "                data=fem_data_pca_scores, hue='sport', palette='Set1', ax=ax)\n",
        "\n",
        "for i,j in enumerate(fem_data.columns):\n",
        "  ax.arrow(0, 0, fem_data_pca_components[0][i], fem_data_pca_components[1][i], color='gray', alpha=0.6)\n",
        "  ax.text(fem_data_pca_components[0][i]*1.1, fem_data_pca_components[1][i]*1.1, j, color='gray', ha='center', va='center')\n",
        "\n",
        "ax.set_xlim(-0.7,0.7)\n",
        "ax.set_ylim(-0.5,0.7)\n",
        "ax.set_xlabel('PC1')\n",
        "ax.set_ylabel('PC2')\n",
        "ax.set_title('Australian Female Athletes')\n",
        "\n",
        "plt.show()"
      ],
      "execution_count": 19,
      "outputs": [
        {
          "output_type": "display_data",
          "data": {
            "image/png": "[encoded data removed]",
            "text/plain": [
              "<Figure size 720x720 with 1 Axes>"
            ]
          },
          "metadata": {
            "tags": [],
            "needs_background": "light"
          }
        }
      ]
    }
  ]
}