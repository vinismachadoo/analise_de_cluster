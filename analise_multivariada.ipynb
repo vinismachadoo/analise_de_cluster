{
  "nbformat": 4,
  "nbformat_minor": 0,
  "metadata": {
    "colab": {
      "name": "analise_multivariada.ipynb",
      "provenance": [],
      "collapsed_sections": [],
      "include_colab_link": true
    },
    "kernelspec": {
      "name": "python3",
      "display_name": "Python 3"
    }
  },
  "cells": [
    {
      "cell_type": "markdown",
      "metadata": {
        "id": "view-in-github",
        "colab_type": "text"
      },
      "source": [
        "<a href=\"https://colab.research.google.com/github/vinismachadoo/cluster-atletas-olimpicos/blob/main/analise_multivariada.ipynb\" target=\"_parent\"><img src=\"https://colab.research.google.com/assets/colab-badge.svg\" alt=\"Open In Colab\"/></a>"
      ]
    },
    {
      "cell_type": "code",
      "metadata": {
        "id": "BXL2weZSCr8T",
        "colab": {
          "base_uri": "https://localhost:8080/"
        },
        "outputId": "bdbfb988-4457-4d76-cb54-586e86839916"
      },
      "source": [
        "!pip install factor_analyzer -q"
      ],
      "execution_count": 1,
      "outputs": [
        {
          "output_type": "stream",
          "text": [
            "\u001b[?25l\r\u001b[K     |████████▏                       | 10kB 20.3MB/s eta 0:00:01\r\u001b[K     |████████████████▍               | 20kB 23.8MB/s eta 0:00:01\r\u001b[K     |████████████████████████▌       | 30kB 13.3MB/s eta 0:00:01\r\u001b[K     |████████████████████████████████| 40kB 3.7MB/s \n",
            "\u001b[?25h  Building wheel for factor-analyzer (setup.py) ... \u001b[?25l\u001b[?25hdone\n"
          ],
          "name": "stdout"
        }
      ]
    },
    {
      "cell_type": "code",
      "metadata": {
        "id": "VuuxA95tDm49"
      },
      "source": [
        "from math import *\n",
        "import numpy as np\n",
        "import pandas as pd\n",
        "import matplotlib.pyplot as plt\n",
        "import seaborn as sns\n",
        "from matplotlib.ticker import FormatStrFormatter\n",
        "from factor_analyzer import *\n",
        "from sklearn.preprocessing import StandardScaler\n",
        "from sklearn.decomposition import PCA\n",
        "from scipy.spatial import ConvexHull"
      ],
      "execution_count": 2,
      "outputs": []
    },
    {
      "cell_type": "code",
      "metadata": {
        "id": "dhEtOebCD-Vb"
      },
      "source": [
        "df = pd.read_csv('https://vincentarelbundock.github.io/Rdatasets/csv/DAAG/ais.csv', index_col=0)"
      ],
      "execution_count": 5,
      "outputs": []
    },
    {
      "cell_type": "code",
      "metadata": {
        "id": "MV1onfhUFjRF",
        "colab": {
          "base_uri": "https://localhost:8080/"
        },
        "outputId": "18b85799-d797-47b4-db07-e6a48318d3aa"
      },
      "source": [
        "df.columns"
      ],
      "execution_count": 7,
      "outputs": [
        {
          "output_type": "execute_result",
          "data": {
            "text/plain": [
              "Index(['rcc', 'wcc', 'hc', 'hg', 'ferr', 'bmi', 'ssf', 'pcBfat', 'lbm', 'ht',\n",
              "       'wt', 'sex', 'sport'],\n",
              "      dtype='object')"
            ]
          },
          "metadata": {
            "tags": []
          },
          "execution_count": 7
        }
      ]
    },
    {
      "cell_type": "code",
      "metadata": {
        "id": "kzcXJ8DtjIZU"
      },
      "source": [
        "atletas_femininas = df[df['sex'] == 'f'].reset_index(drop=True)"
      ],
      "execution_count": 8,
      "outputs": []
    },
    {
      "cell_type": "code",
      "metadata": {
        "id": "3nu0nECtjvdf"
      },
      "source": [
        "fem_data = atletas_femininas.iloc[:,:-2]"
      ],
      "execution_count": 9,
      "outputs": []
    },
    {
      "cell_type": "code",
      "metadata": {
        "id": "qhctXVlplZGG",
        "colab": {
          "base_uri": "https://localhost:8080/"
        },
        "outputId": "bf6f5953-1b89-4cd8-c573-2e6ac93abcc9"
      },
      "source": [
        "chi_square_value_fem, p_value_fem = calculate_bartlett_sphericity(fem_data)\n",
        "chi_square_value_fem, p_value_fem"
      ],
      "execution_count": 10,
      "outputs": [
        {
          "output_type": "execute_result",
          "data": {
            "text/plain": [
              "(1743.5158385701527, 0.0)"
            ]
          },
          "metadata": {
            "tags": []
          },
          "execution_count": 10
        }
      ]
    },
    {
      "cell_type": "code",
      "metadata": {
        "id": "Srd68rMcluws",
        "colab": {
          "base_uri": "https://localhost:8080/"
        },
        "outputId": "8efb00bf-249b-4c1d-81ac-23a1fd99d63f"
      },
      "source": [
        "_, kmo_model_fem = calculate_kmo(fem_data)\n",
        "kmo_model_fem"
      ],
      "execution_count": 11,
      "outputs": [
        {
          "output_type": "execute_result",
          "data": {
            "text/plain": [
              "0.6122457430579239"
            ]
          },
          "metadata": {
            "tags": []
          },
          "execution_count": 11
        }
      ]
    },
    {
      "cell_type": "code",
      "metadata": {
        "id": "QkC4zIT9mKjD",
        "colab": {
          "base_uri": "https://localhost:8080/",
          "height": 390
        },
        "outputId": "eb73bd5b-b676-4141-ffa9-7312cf5ee59b"
      },
      "source": [
        "fem_data_scaled = StandardScaler().fit_transform(fem_data)\n",
        "cov_mat_fem = np.cov(fem_data_scaled.T, bias=True)\n",
        "pd.DataFrame(cov_mat_fem)"
      ],
      "execution_count": 12,
      "outputs": [
        {
          "output_type": "execute_result",
          "data": {
            "text/html": [
              "<div>\n",
              "<style scoped>\n",
              "    .dataframe tbody tr th:only-of-type {\n",
              "        vertical-align: middle;\n",
              "    }\n",
              "\n",
              "    .dataframe tbody tr th {\n",
              "        vertical-align: top;\n",
              "    }\n",
              "\n",
              "    .dataframe thead th {\n",
              "        text-align: right;\n",
              "    }\n",
              "</style>\n",
              "<table border=\"1\" class=\"dataframe\">\n",
              "  <thead>\n",
              "    <tr style=\"text-align: right;\">\n",
              "      <th></th>\n",
              "      <th>0</th>\n",
              "      <th>1</th>\n",
              "      <th>2</th>\n",
              "      <th>3</th>\n",
              "      <th>4</th>\n",
              "      <th>5</th>\n",
              "      <th>6</th>\n",
              "      <th>7</th>\n",
              "      <th>8</th>\n",
              "      <th>9</th>\n",
              "      <th>10</th>\n",
              "    </tr>\n",
              "  </thead>\n",
              "  <tbody>\n",
              "    <tr>\n",
              "      <th>0</th>\n",
              "      <td>1.000000</td>\n",
              "      <td>0.240535</td>\n",
              "      <td>0.852203</td>\n",
              "      <td>0.776775</td>\n",
              "      <td>-0.092800</td>\n",
              "      <td>0.014216</td>\n",
              "      <td>-0.139228</td>\n",
              "      <td>-0.139249</td>\n",
              "      <td>0.086205</td>\n",
              "      <td>0.011299</td>\n",
              "      <td>0.012562</td>\n",
              "    </tr>\n",
              "    <tr>\n",
              "      <th>1</th>\n",
              "      <td>0.240535</td>\n",
              "      <td>1.000000</td>\n",
              "      <td>0.198980</td>\n",
              "      <td>0.201422</td>\n",
              "      <td>-0.020675</td>\n",
              "      <td>0.145820</td>\n",
              "      <td>0.119705</td>\n",
              "      <td>0.118673</td>\n",
              "      <td>0.048301</td>\n",
              "      <td>-0.006855</td>\n",
              "      <td>0.088692</td>\n",
              "    </tr>\n",
              "    <tr>\n",
              "      <th>2</th>\n",
              "      <td>0.852203</td>\n",
              "      <td>0.198980</td>\n",
              "      <td>1.000000</td>\n",
              "      <td>0.903432</td>\n",
              "      <td>-0.127142</td>\n",
              "      <td>0.008696</td>\n",
              "      <td>-0.224654</td>\n",
              "      <td>-0.194048</td>\n",
              "      <td>0.119844</td>\n",
              "      <td>0.020647</td>\n",
              "      <td>0.010481</td>\n",
              "    </tr>\n",
              "    <tr>\n",
              "      <th>3</th>\n",
              "      <td>0.776775</td>\n",
              "      <td>0.201422</td>\n",
              "      <td>0.903432</td>\n",
              "      <td>1.000000</td>\n",
              "      <td>-0.035821</td>\n",
              "      <td>0.131102</td>\n",
              "      <td>-0.158038</td>\n",
              "      <td>-0.132993</td>\n",
              "      <td>0.163471</td>\n",
              "      <td>-0.037993</td>\n",
              "      <td>0.072610</td>\n",
              "    </tr>\n",
              "    <tr>\n",
              "      <th>4</th>\n",
              "      <td>-0.092800</td>\n",
              "      <td>-0.020675</td>\n",
              "      <td>-0.127142</td>\n",
              "      <td>-0.035821</td>\n",
              "      <td>1.000000</td>\n",
              "      <td>0.135066</td>\n",
              "      <td>0.156646</td>\n",
              "      <td>0.132319</td>\n",
              "      <td>-0.049979</td>\n",
              "      <td>-0.141890</td>\n",
              "      <td>0.021299</td>\n",
              "    </tr>\n",
              "    <tr>\n",
              "      <th>5</th>\n",
              "      <td>0.014216</td>\n",
              "      <td>0.145820</td>\n",
              "      <td>0.008696</td>\n",
              "      <td>0.131102</td>\n",
              "      <td>0.135066</td>\n",
              "      <td>1.000000</td>\n",
              "      <td>0.678488</td>\n",
              "      <td>0.660492</td>\n",
              "      <td>0.747491</td>\n",
              "      <td>0.231665</td>\n",
              "      <td>0.847015</td>\n",
              "    </tr>\n",
              "    <tr>\n",
              "      <th>6</th>\n",
              "      <td>-0.139228</td>\n",
              "      <td>0.119705</td>\n",
              "      <td>-0.224654</td>\n",
              "      <td>-0.158038</td>\n",
              "      <td>0.156646</td>\n",
              "      <td>0.678488</td>\n",
              "      <td>1.000000</td>\n",
              "      <td>0.969535</td>\n",
              "      <td>0.406491</td>\n",
              "      <td>0.406516</td>\n",
              "      <td>0.719647</td>\n",
              "    </tr>\n",
              "    <tr>\n",
              "      <th>7</th>\n",
              "      <td>-0.139249</td>\n",
              "      <td>0.118673</td>\n",
              "      <td>-0.194048</td>\n",
              "      <td>-0.132993</td>\n",
              "      <td>0.132319</td>\n",
              "      <td>0.660492</td>\n",
              "      <td>0.969535</td>\n",
              "      <td>1.000000</td>\n",
              "      <td>0.406182</td>\n",
              "      <td>0.443054</td>\n",
              "      <td>0.724866</td>\n",
              "    </tr>\n",
              "    <tr>\n",
              "      <th>8</th>\n",
              "      <td>0.086205</td>\n",
              "      <td>0.048301</td>\n",
              "      <td>0.119844</td>\n",
              "      <td>0.163471</td>\n",
              "      <td>-0.049979</td>\n",
              "      <td>0.747491</td>\n",
              "      <td>0.406491</td>\n",
              "      <td>0.406182</td>\n",
              "      <td>1.000000</td>\n",
              "      <td>0.708293</td>\n",
              "      <td>0.920800</td>\n",
              "    </tr>\n",
              "    <tr>\n",
              "      <th>9</th>\n",
              "      <td>0.011299</td>\n",
              "      <td>-0.006855</td>\n",
              "      <td>0.020647</td>\n",
              "      <td>-0.037993</td>\n",
              "      <td>-0.141890</td>\n",
              "      <td>0.231665</td>\n",
              "      <td>0.406516</td>\n",
              "      <td>0.443054</td>\n",
              "      <td>0.708293</td>\n",
              "      <td>1.000000</td>\n",
              "      <td>0.708761</td>\n",
              "    </tr>\n",
              "    <tr>\n",
              "      <th>10</th>\n",
              "      <td>0.012562</td>\n",
              "      <td>0.088692</td>\n",
              "      <td>0.010481</td>\n",
              "      <td>0.072610</td>\n",
              "      <td>0.021299</td>\n",
              "      <td>0.847015</td>\n",
              "      <td>0.719647</td>\n",
              "      <td>0.724866</td>\n",
              "      <td>0.920800</td>\n",
              "      <td>0.708761</td>\n",
              "      <td>1.000000</td>\n",
              "    </tr>\n",
              "  </tbody>\n",
              "</table>\n",
              "</div>"
            ],
            "text/plain": [
              "          0         1         2   ...        8         9         10\n",
              "0   1.000000  0.240535  0.852203  ...  0.086205  0.011299  0.012562\n",
              "1   0.240535  1.000000  0.198980  ...  0.048301 -0.006855  0.088692\n",
              "2   0.852203  0.198980  1.000000  ...  0.119844  0.020647  0.010481\n",
              "3   0.776775  0.201422  0.903432  ...  0.163471 -0.037993  0.072610\n",
              "4  -0.092800 -0.020675 -0.127142  ... -0.049979 -0.141890  0.021299\n",
              "5   0.014216  0.145820  0.008696  ...  0.747491  0.231665  0.847015\n",
              "6  -0.139228  0.119705 -0.224654  ...  0.406491  0.406516  0.719647\n",
              "7  -0.139249  0.118673 -0.194048  ...  0.406182  0.443054  0.724866\n",
              "8   0.086205  0.048301  0.119844  ...  1.000000  0.708293  0.920800\n",
              "9   0.011299 -0.006855  0.020647  ...  0.708293  1.000000  0.708761\n",
              "10  0.012562  0.088692  0.010481  ...  0.920800  0.708761  1.000000\n",
              "\n",
              "[11 rows x 11 columns]"
            ]
          },
          "metadata": {
            "tags": []
          },
          "execution_count": 12
        }
      ]
    },
    {
      "cell_type": "code",
      "metadata": {
        "id": "fgXvAvSmmc-Z",
        "colab": {
          "base_uri": "https://localhost:8080/",
          "height": 390
        },
        "outputId": "4b2a9ed0-5c6b-424e-c706-b26c46c9eeb0"
      },
      "source": [
        "fig, ax = plt.subplots(figsize=(7,6))\n",
        "\n",
        "sns.heatmap(cov_mat_fem, cmap='spring', vmin=-1, vmax=1, ax=ax)\n",
        "ax.set_xticklabels(fem_data.columns)\n",
        "ax.set_yticklabels(fem_data.columns)\n",
        "ax.set_title('Female Covariance Matrix')\n",
        "\n",
        "plt.show()"
      ],
      "execution_count": 13,
      "outputs": [
        {
          "output_type": "display_data",
          "data": {
            "image/png": "[encoded data removed]",
            "text/plain": [
              "<Figure size 504x432 with 2 Axes>"
            ]
          },
          "metadata": {
            "tags": [],
            "needs_background": "light"
          }
        }
      ]
    },
    {
      "cell_type": "code",
      "metadata": {
        "id": "Rl5GbnUNncxn",
        "colab": {
          "base_uri": "https://localhost:8080/"
        },
        "outputId": "76efb98c-e66f-47fb-c4cf-2c8608538753"
      },
      "source": [
        "fa_fem = FactorAnalyzer(4, 'varimax')\n",
        "fa_fem.fit(fem_data)"
      ],
      "execution_count": 14,
      "outputs": [
        {
          "output_type": "execute_result",
          "data": {
            "text/plain": [
              "FactorAnalyzer(bounds=(0.005, 1), impute='median', is_corr_matrix=False,\n",
              "               method='minres', n_factors=4, rotation='varimax',\n",
              "               rotation_kwargs={}, use_smc=True)"
            ]
          },
          "metadata": {
            "tags": []
          },
          "execution_count": 14
        }
      ]
    },
    {
      "cell_type": "code",
      "metadata": {
        "id": "nkg9CG9gncl5",
        "colab": {
          "base_uri": "https://localhost:8080/",
          "height": 390
        },
        "outputId": "2e4b2a01-5f05-4aa9-a933-78a554236dea"
      },
      "source": [
        "evs_fem, _ = fa_fem.get_eigenvalues()\n",
        "values_fem = {'Eigenvalues': evs_fem, 'Explanation': [ev*100/sum(evs_fem) for ev in evs_fem]}\n",
        "pd.DataFrame(values_fem)"
      ],
      "execution_count": 15,
      "outputs": [
        {
          "output_type": "execute_result",
          "data": {
            "text/html": [
              "<div>\n",
              "<style scoped>\n",
              "    .dataframe tbody tr th:only-of-type {\n",
              "        vertical-align: middle;\n",
              "    }\n",
              "\n",
              "    .dataframe tbody tr th {\n",
              "        vertical-align: top;\n",
              "    }\n",
              "\n",
              "    .dataframe thead th {\n",
              "        text-align: right;\n",
              "    }\n",
              "</style>\n",
              "<table border=\"1\" class=\"dataframe\">\n",
              "  <thead>\n",
              "    <tr style=\"text-align: right;\">\n",
              "      <th></th>\n",
              "      <th>Eigenvalues</th>\n",
              "      <th>Explanation</th>\n",
              "    </tr>\n",
              "  </thead>\n",
              "  <tbody>\n",
              "    <tr>\n",
              "      <th>0</th>\n",
              "      <td>4.259859</td>\n",
              "      <td>38.725988</td>\n",
              "    </tr>\n",
              "    <tr>\n",
              "      <th>1</th>\n",
              "      <td>2.883280</td>\n",
              "      <td>26.211638</td>\n",
              "    </tr>\n",
              "    <tr>\n",
              "      <th>2</th>\n",
              "      <td>1.268236</td>\n",
              "      <td>11.529419</td>\n",
              "    </tr>\n",
              "    <tr>\n",
              "      <th>3</th>\n",
              "      <td>0.952080</td>\n",
              "      <td>8.655275</td>\n",
              "    </tr>\n",
              "    <tr>\n",
              "      <th>4</th>\n",
              "      <td>0.691247</td>\n",
              "      <td>6.284059</td>\n",
              "    </tr>\n",
              "    <tr>\n",
              "      <th>5</th>\n",
              "      <td>0.630179</td>\n",
              "      <td>5.728898</td>\n",
              "    </tr>\n",
              "    <tr>\n",
              "      <th>6</th>\n",
              "      <td>0.211739</td>\n",
              "      <td>1.924904</td>\n",
              "    </tr>\n",
              "    <tr>\n",
              "      <th>7</th>\n",
              "      <td>0.071654</td>\n",
              "      <td>0.651401</td>\n",
              "    </tr>\n",
              "    <tr>\n",
              "      <th>8</th>\n",
              "      <td>0.027616</td>\n",
              "      <td>0.251059</td>\n",
              "    </tr>\n",
              "    <tr>\n",
              "      <th>9</th>\n",
              "      <td>0.002519</td>\n",
              "      <td>0.022895</td>\n",
              "    </tr>\n",
              "    <tr>\n",
              "      <th>10</th>\n",
              "      <td>0.001591</td>\n",
              "      <td>0.014465</td>\n",
              "    </tr>\n",
              "  </tbody>\n",
              "</table>\n",
              "</div>"
            ],
            "text/plain": [
              "    Eigenvalues  Explanation\n",
              "0      4.259859    38.725988\n",
              "1      2.883280    26.211638\n",
              "2      1.268236    11.529419\n",
              "3      0.952080     8.655275\n",
              "4      0.691247     6.284059\n",
              "5      0.630179     5.728898\n",
              "6      0.211739     1.924904\n",
              "7      0.071654     0.651401\n",
              "8      0.027616     0.251059\n",
              "9      0.002519     0.022895\n",
              "10     0.001591     0.014465"
            ]
          },
          "metadata": {
            "tags": []
          },
          "execution_count": 15
        }
      ]
    },
    {
      "cell_type": "code",
      "metadata": {
        "id": "bDiCoOfrn_zG",
        "colab": {
          "base_uri": "https://localhost:8080/",
          "height": 404
        },
        "outputId": "9d13b18a-b27d-4d40-f9b9-e6420e3c5583"
      },
      "source": [
        "fig, ax = plt.subplots(figsize=(10,6))\n",
        "\n",
        "ax.plot(evs_fem, '-o', c='deeppink', )\n",
        "ax.yaxis.set_major_formatter(FormatStrFormatter('%.1f'))\n",
        "ax.set_title('Scree Plot Female')\n",
        "ax.set_xlabel('Factors')\n",
        "ax.set_ylabel('Eigenvalues')\n",
        "\n",
        "plt.show()"
      ],
      "execution_count": 16,
      "outputs": [
        {
          "output_type": "display_data",
          "data": {
            "image/png": "[encoded data removed]",
            "text/plain": [
              "<Figure size 720x432 with 1 Axes>"
            ]
          },
          "metadata": {
            "tags": [],
            "needs_background": "light"
          }
        }
      ]
    },
    {
      "cell_type": "code",
      "metadata": {
        "id": "KuNGU8SFrUpj",
        "colab": {
          "base_uri": "https://localhost:8080/",
          "height": 390
        },
        "outputId": "e27dd9cc-7296-4d75-f8bf-4f358ec2889f"
      },
      "source": [
        "communalities_fem = fa_fem.get_communalities()\n",
        "pd.DataFrame(communalities_fem, index = fem_data.columns, columns=['Communalities'])"
      ],
      "execution_count": 17,
      "outputs": [
        {
          "output_type": "execute_result",
          "data": {
            "text/html": [
              "<div>\n",
              "<style scoped>\n",
              "    .dataframe tbody tr th:only-of-type {\n",
              "        vertical-align: middle;\n",
              "    }\n",
              "\n",
              "    .dataframe tbody tr th {\n",
              "        vertical-align: top;\n",
              "    }\n",
              "\n",
              "    .dataframe thead th {\n",
              "        text-align: right;\n",
              "    }\n",
              "</style>\n",
              "<table border=\"1\" class=\"dataframe\">\n",
              "  <thead>\n",
              "    <tr style=\"text-align: right;\">\n",
              "      <th></th>\n",
              "      <th>Communalities</th>\n",
              "    </tr>\n",
              "  </thead>\n",
              "  <tbody>\n",
              "    <tr>\n",
              "      <th>rcc</th>\n",
              "      <td>0.755801</td>\n",
              "    </tr>\n",
              "    <tr>\n",
              "      <th>wcc</th>\n",
              "      <td>0.088419</td>\n",
              "    </tr>\n",
              "    <tr>\n",
              "      <th>hc</th>\n",
              "      <td>0.981593</td>\n",
              "    </tr>\n",
              "    <tr>\n",
              "      <th>hg</th>\n",
              "      <td>0.838135</td>\n",
              "    </tr>\n",
              "    <tr>\n",
              "      <th>ferr</th>\n",
              "      <td>0.077279</td>\n",
              "    </tr>\n",
              "    <tr>\n",
              "      <th>bmi</th>\n",
              "      <td>0.996027</td>\n",
              "    </tr>\n",
              "    <tr>\n",
              "      <th>ssf</th>\n",
              "      <td>0.981048</td>\n",
              "    </tr>\n",
              "    <tr>\n",
              "      <th>pcBfat</th>\n",
              "      <td>0.962314</td>\n",
              "    </tr>\n",
              "    <tr>\n",
              "      <th>lbm</th>\n",
              "      <td>0.997472</td>\n",
              "    </tr>\n",
              "    <tr>\n",
              "      <th>ht</th>\n",
              "      <td>0.995250</td>\n",
              "    </tr>\n",
              "    <tr>\n",
              "      <th>wt</th>\n",
              "      <td>0.997244</td>\n",
              "    </tr>\n",
              "  </tbody>\n",
              "</table>\n",
              "</div>"
            ],
            "text/plain": [
              "        Communalities\n",
              "rcc          0.755801\n",
              "wcc          0.088419\n",
              "hc           0.981593\n",
              "hg           0.838135\n",
              "ferr         0.077279\n",
              "bmi          0.996027\n",
              "ssf          0.981048\n",
              "pcBfat       0.962314\n",
              "lbm          0.997472\n",
              "ht           0.995250\n",
              "wt           0.997244"
            ]
          },
          "metadata": {
            "tags": []
          },
          "execution_count": 17
        }
      ]
    },
    {
      "cell_type": "code",
      "metadata": {
        "id": "mPskEPqUrJ4h",
        "colab": {
          "base_uri": "https://localhost:8080/",
          "height": 390
        },
        "outputId": "dc5f8f97-0f3e-4d8c-9668-b85d0ce55c79"
      },
      "source": [
        "loadings_fem = fa_fem.loadings_\n",
        "pd.DataFrame(loadings_fem, index = fem_data.columns)"
      ],
      "execution_count": 18,
      "outputs": [
        {
          "output_type": "execute_result",
          "data": {
            "text/html": [
              "<div>\n",
              "<style scoped>\n",
              "    .dataframe tbody tr th:only-of-type {\n",
              "        vertical-align: middle;\n",
              "    }\n",
              "\n",
              "    .dataframe tbody tr th {\n",
              "        vertical-align: top;\n",
              "    }\n",
              "\n",
              "    .dataframe thead th {\n",
              "        text-align: right;\n",
              "    }\n",
              "</style>\n",
              "<table border=\"1\" class=\"dataframe\">\n",
              "  <thead>\n",
              "    <tr style=\"text-align: right;\">\n",
              "      <th></th>\n",
              "      <th>0</th>\n",
              "      <th>1</th>\n",
              "      <th>2</th>\n",
              "      <th>3</th>\n",
              "    </tr>\n",
              "  </thead>\n",
              "  <tbody>\n",
              "    <tr>\n",
              "      <th>rcc</th>\n",
              "      <td>-0.016109</td>\n",
              "      <td>0.859528</td>\n",
              "      <td>-0.071455</td>\n",
              "      <td>0.107928</td>\n",
              "    </tr>\n",
              "    <tr>\n",
              "      <th>wcc</th>\n",
              "      <td>0.034362</td>\n",
              "      <td>0.256766</td>\n",
              "      <td>0.133840</td>\n",
              "      <td>-0.058281</td>\n",
              "    </tr>\n",
              "    <tr>\n",
              "      <th>hc</th>\n",
              "      <td>0.014688</td>\n",
              "      <td>0.967318</td>\n",
              "      <td>-0.155002</td>\n",
              "      <td>0.147132</td>\n",
              "    </tr>\n",
              "    <tr>\n",
              "      <th>hg</th>\n",
              "      <td>0.108817</td>\n",
              "      <td>0.900187</td>\n",
              "      <td>-0.126263</td>\n",
              "      <td>0.003772</td>\n",
              "    </tr>\n",
              "    <tr>\n",
              "      <th>ferr</th>\n",
              "      <td>0.016988</td>\n",
              "      <td>-0.059786</td>\n",
              "      <td>0.130675</td>\n",
              "      <td>-0.237360</td>\n",
              "    </tr>\n",
              "    <tr>\n",
              "      <th>bmi</th>\n",
              "      <td>0.840727</td>\n",
              "      <td>0.109584</td>\n",
              "      <td>0.418918</td>\n",
              "      <td>-0.318910</td>\n",
              "    </tr>\n",
              "    <tr>\n",
              "      <th>ssf</th>\n",
              "      <td>0.335495</td>\n",
              "      <td>-0.079095</td>\n",
              "      <td>0.926462</td>\n",
              "      <td>-0.062483</td>\n",
              "    </tr>\n",
              "    <tr>\n",
              "      <th>pcBfat</th>\n",
              "      <td>0.327149</td>\n",
              "      <td>-0.062927</td>\n",
              "      <td>0.922566</td>\n",
              "      <td>-0.014107</td>\n",
              "    </tr>\n",
              "    <tr>\n",
              "      <th>lbm</th>\n",
              "      <td>0.934657</td>\n",
              "      <td>0.084117</td>\n",
              "      <td>0.124585</td>\n",
              "      <td>0.318263</td>\n",
              "    </tr>\n",
              "    <tr>\n",
              "      <th>ht</th>\n",
              "      <td>0.433978</td>\n",
              "      <td>-0.055706</td>\n",
              "      <td>0.333479</td>\n",
              "      <td>0.832226</td>\n",
              "    </tr>\n",
              "    <tr>\n",
              "      <th>wt</th>\n",
              "      <td>0.839709</td>\n",
              "      <td>0.044243</td>\n",
              "      <td>0.491649</td>\n",
              "      <td>0.220128</td>\n",
              "    </tr>\n",
              "  </tbody>\n",
              "</table>\n",
              "</div>"
            ],
            "text/plain": [
              "               0         1         2         3\n",
              "rcc    -0.016109  0.859528 -0.071455  0.107928\n",
              "wcc     0.034362  0.256766  0.133840 -0.058281\n",
              "hc      0.014688  0.967318 -0.155002  0.147132\n",
              "hg      0.108817  0.900187 -0.126263  0.003772\n",
              "ferr    0.016988 -0.059786  0.130675 -0.237360\n",
              "bmi     0.840727  0.109584  0.418918 -0.318910\n",
              "ssf     0.335495 -0.079095  0.926462 -0.062483\n",
              "pcBfat  0.327149 -0.062927  0.922566 -0.014107\n",
              "lbm     0.934657  0.084117  0.124585  0.318263\n",
              "ht      0.433978 -0.055706  0.333479  0.832226\n",
              "wt      0.839709  0.044243  0.491649  0.220128"
            ]
          },
          "metadata": {
            "tags": []
          },
          "execution_count": 18
        }
      ]
    },
    {
      "cell_type": "code",
      "metadata": {
        "id": "QcRJgGOyrhGr",
        "colab": {
          "base_uri": "https://localhost:8080/",
          "height": 142
        },
        "outputId": "a607d50d-fb86-416f-e2e8-dd80f0ac8f8a"
      },
      "source": [
        "factor_variances_fem = fa_fem.get_factor_variance()\n",
        "pd.DataFrame(factor_variances_fem, index = ['Variance','Proportional variances','Cumulative variances'])"
      ],
      "execution_count": 19,
      "outputs": [
        {
          "output_type": "execute_result",
          "data": {
            "text/html": [
              "<div>\n",
              "<style scoped>\n",
              "    .dataframe tbody tr th:only-of-type {\n",
              "        vertical-align: middle;\n",
              "    }\n",
              "\n",
              "    .dataframe tbody tr th {\n",
              "        vertical-align: top;\n",
              "    }\n",
              "\n",
              "    .dataframe thead th {\n",
              "        text-align: right;\n",
              "    }\n",
              "</style>\n",
              "<table border=\"1\" class=\"dataframe\">\n",
              "  <thead>\n",
              "    <tr style=\"text-align: right;\">\n",
              "      <th></th>\n",
              "      <th>0</th>\n",
              "      <th>1</th>\n",
              "      <th>2</th>\n",
              "      <th>3</th>\n",
              "    </tr>\n",
              "  </thead>\n",
              "  <tbody>\n",
              "    <tr>\n",
              "      <th>Variance</th>\n",
              "      <td>2.707224</td>\n",
              "      <td>2.588692</td>\n",
              "      <td>2.333464</td>\n",
              "      <td>1.041202</td>\n",
              "    </tr>\n",
              "    <tr>\n",
              "      <th>Proportional variances</th>\n",
              "      <td>0.246111</td>\n",
              "      <td>0.235336</td>\n",
              "      <td>0.212133</td>\n",
              "      <td>0.094655</td>\n",
              "    </tr>\n",
              "    <tr>\n",
              "      <th>Cumulative variances</th>\n",
              "      <td>0.246111</td>\n",
              "      <td>0.481447</td>\n",
              "      <td>0.693580</td>\n",
              "      <td>0.788235</td>\n",
              "    </tr>\n",
              "  </tbody>\n",
              "</table>\n",
              "</div>"
            ],
            "text/plain": [
              "                               0         1         2         3\n",
              "Variance                2.707224  2.588692  2.333464  1.041202\n",
              "Proportional variances  0.246111  0.235336  0.212133  0.094655\n",
              "Cumulative variances    0.246111  0.481447  0.693580  0.788235"
            ]
          },
          "metadata": {
            "tags": []
          },
          "execution_count": 19
        }
      ]
    },
    {
      "cell_type": "code",
      "metadata": {
        "id": "JkvfF_ybrJtA",
        "colab": {
          "base_uri": "https://localhost:8080/",
          "height": 390
        },
        "outputId": "0915bf76-34a2-4abb-e336-bf487a700b31"
      },
      "source": [
        "pca = PCA(2)\n",
        "fem_data_pca_scores = pca.fit_transform(fem_data_scaled)\n",
        "fem_data_pca_components = pca.components_\n",
        "pd.DataFrame(fem_data_pca_components.T, index = fem_data.columns)"
      ],
      "execution_count": 20,
      "outputs": [
        {
          "output_type": "execute_result",
          "data": {
            "text/html": [
              "<div>\n",
              "<style scoped>\n",
              "    .dataframe tbody tr th:only-of-type {\n",
              "        vertical-align: middle;\n",
              "    }\n",
              "\n",
              "    .dataframe tbody tr th {\n",
              "        vertical-align: top;\n",
              "    }\n",
              "\n",
              "    .dataframe thead th {\n",
              "        text-align: right;\n",
              "    }\n",
              "</style>\n",
              "<table border=\"1\" class=\"dataframe\">\n",
              "  <thead>\n",
              "    <tr style=\"text-align: right;\">\n",
              "      <th></th>\n",
              "      <th>0</th>\n",
              "      <th>1</th>\n",
              "    </tr>\n",
              "  </thead>\n",
              "  <tbody>\n",
              "    <tr>\n",
              "      <th>rcc</th>\n",
              "      <td>0.029323</td>\n",
              "      <td>0.533391</td>\n",
              "    </tr>\n",
              "    <tr>\n",
              "      <th>wcc</th>\n",
              "      <td>-0.060999</td>\n",
              "      <td>0.185030</td>\n",
              "    </tr>\n",
              "    <tr>\n",
              "      <th>hc</th>\n",
              "      <td>0.041341</td>\n",
              "      <td>0.564486</td>\n",
              "    </tr>\n",
              "    <tr>\n",
              "      <th>hg</th>\n",
              "      <td>0.008612</td>\n",
              "      <td>0.547683</td>\n",
              "    </tr>\n",
              "    <tr>\n",
              "      <th>ferr</th>\n",
              "      <td>-0.038477</td>\n",
              "      <td>-0.095127</td>\n",
              "    </tr>\n",
              "    <tr>\n",
              "      <th>bmi</th>\n",
              "      <td>-0.409634</td>\n",
              "      <td>0.064309</td>\n",
              "    </tr>\n",
              "    <tr>\n",
              "      <th>ssf</th>\n",
              "      <td>-0.410588</td>\n",
              "      <td>-0.115149</td>\n",
              "    </tr>\n",
              "    <tr>\n",
              "      <th>pcBfat</th>\n",
              "      <td>-0.411607</td>\n",
              "      <td>-0.103326</td>\n",
              "    </tr>\n",
              "    <tr>\n",
              "      <th>lbm</th>\n",
              "      <td>-0.397811</td>\n",
              "      <td>0.140400</td>\n",
              "    </tr>\n",
              "    <tr>\n",
              "      <th>ht</th>\n",
              "      <td>-0.323412</td>\n",
              "      <td>0.040683</td>\n",
              "    </tr>\n",
              "    <tr>\n",
              "      <th>wt</th>\n",
              "      <td>-0.472761</td>\n",
              "      <td>0.064563</td>\n",
              "    </tr>\n",
              "  </tbody>\n",
              "</table>\n",
              "</div>"
            ],
            "text/plain": [
              "               0         1\n",
              "rcc     0.029323  0.533391\n",
              "wcc    -0.060999  0.185030\n",
              "hc      0.041341  0.564486\n",
              "hg      0.008612  0.547683\n",
              "ferr   -0.038477 -0.095127\n",
              "bmi    -0.409634  0.064309\n",
              "ssf    -0.410588 -0.115149\n",
              "pcBfat -0.411607 -0.103326\n",
              "lbm    -0.397811  0.140400\n",
              "ht     -0.323412  0.040683\n",
              "wt     -0.472761  0.064563"
            ]
          },
          "metadata": {
            "tags": []
          },
          "execution_count": 20
        }
      ]
    },
    {
      "cell_type": "code",
      "metadata": {
        "id": "cZItZ8hd12IK"
      },
      "source": [
        "fem_data_pca_scores = pd.concat([pd.DataFrame(fem_data_pca_scores), atletas_femininas['sport']], axis=1)"
      ],
      "execution_count": 21,
      "outputs": []
    },
    {
      "cell_type": "code",
      "metadata": {
        "id": "P3U16RrY7fpR",
        "colab": {
          "base_uri": "https://localhost:8080/",
          "height": 621
        },
        "outputId": "b2a9044f-5d6d-4abc-9cf3-1c766e363544"
      },
      "source": [
        "fig, ax = plt.subplots(figsize=(10,10))\n",
        "\n",
        "fem_data_pca_scores['PC1'] = fem_data_pca_scores[0]/(fem_data_pca_scores[0].max() - fem_data_pca_scores[0].min())\n",
        "fem_data_pca_scores['PC2'] = fem_data_pca_scores[1]/(fem_data_pca_scores[1].max() - fem_data_pca_scores[1].min())\n",
        "\n",
        "for i,j in enumerate(fem_data.columns):\n",
        "  ax.arrow(0, 0, fem_data_pca_components[0][i], fem_data_pca_components[1][i], color='black', alpha=0.3, lw=1)\n",
        "  ax.text(fem_data_pca_components[0][i]*1.1, fem_data_pca_components[1][i]*1.1, j, color='black', ha='center', va='center')\n",
        "\n",
        "for name, group in fem_data_pca_scores.groupby('sport'):\n",
        "  sns.scatterplot(x='PC1', y='PC2', data=group, label=name, ax=ax)\n",
        "  points = group.drop(columns=[0,1,'sport']).values\n",
        "  hull = ConvexHull(points)\n",
        "  vertices = np.append(hull.vertices, hull.vertices[0])\n",
        "  ax.plot(points[vertices, 0], points[vertices, 1], alpha=0.4, lw=2)\n",
        "\n",
        "ax.set_xlim(-0.7,0.7)\n",
        "ax.set_ylim(-0.5,0.7)\n",
        "ax.set_xlabel('PC1')\n",
        "ax.set_ylabel('PC2')\n",
        "ax.set_title('Australian Female Athletes')\n",
        "\n",
        "plt.show()"
      ],
      "execution_count": 22,
      "outputs": [
        {
          "output_type": "display_data",
          "data": {
            "image/png": "[encoded data removed]",
            "text/plain": [
              "<Figure size 720x720 with 1 Axes>"
            ]
          },
          "metadata": {
            "tags": [],
            "needs_background": "light"
          }
        }
      ]
    },
    {
      "cell_type": "code",
      "metadata": {
        "id": "USOEJT4AGmIx"
      },
      "source": [
        "atletas_masculinos = df[df['sex'] == 'm'].reset_index(drop=True)"
      ],
      "execution_count": 23,
      "outputs": []
    },
    {
      "cell_type": "code",
      "metadata": {
        "id": "5HzAIwICGq4c"
      },
      "source": [
        "masc_data = atletas_masculinos.iloc[:,:-2]"
      ],
      "execution_count": 24,
      "outputs": []
    },
    {
      "cell_type": "code",
      "metadata": {
        "id": "tBjUIwZatHmz",
        "colab": {
          "base_uri": "https://localhost:8080/"
        },
        "outputId": "ace769d9-4a48-4bb6-f607-34642a14a828"
      },
      "source": [
        "chi_square_value_masc, p_value_masc = calculate_bartlett_sphericity(masc_data)\n",
        "chi_square_value_masc, p_value_masc"
      ],
      "execution_count": 25,
      "outputs": [
        {
          "output_type": "execute_result",
          "data": {
            "text/plain": [
              "(1815.1732880896202, 0.0)"
            ]
          },
          "metadata": {
            "tags": []
          },
          "execution_count": 25
        }
      ]
    },
    {
      "cell_type": "code",
      "metadata": {
        "id": "sqohaJ4stHm9",
        "colab": {
          "base_uri": "https://localhost:8080/"
        },
        "outputId": "704d5fca-a5c6-4051-8ba0-eb5ee0918927"
      },
      "source": [
        "_, kmo_model_masc = calculate_kmo(masc_data)\n",
        "kmo_model_masc"
      ],
      "execution_count": 26,
      "outputs": [
        {
          "output_type": "execute_result",
          "data": {
            "text/plain": [
              "0.6659900473484033"
            ]
          },
          "metadata": {
            "tags": []
          },
          "execution_count": 26
        }
      ]
    },
    {
      "cell_type": "code",
      "metadata": {
        "id": "v9PzWsRHtHnB",
        "colab": {
          "base_uri": "https://localhost:8080/",
          "height": 390
        },
        "outputId": "0e3e905e-8c66-4b6d-a5db-eacda56026f0"
      },
      "source": [
        "masc_data_scaled = StandardScaler().fit_transform(masc_data)\n",
        "cov_mat_masc = np.cov(masc_data_scaled.T, bias=True)\n",
        "pd.DataFrame(cov_mat_masc)"
      ],
      "execution_count": 27,
      "outputs": [
        {
          "output_type": "execute_result",
          "data": {
            "text/html": [
              "<div>\n",
              "<style scoped>\n",
              "    .dataframe tbody tr th:only-of-type {\n",
              "        vertical-align: middle;\n",
              "    }\n",
              "\n",
              "    .dataframe tbody tr th {\n",
              "        vertical-align: top;\n",
              "    }\n",
              "\n",
              "    .dataframe thead th {\n",
              "        text-align: right;\n",
              "    }\n",
              "</style>\n",
              "<table border=\"1\" class=\"dataframe\">\n",
              "  <thead>\n",
              "    <tr style=\"text-align: right;\">\n",
              "      <th></th>\n",
              "      <th>0</th>\n",
              "      <th>1</th>\n",
              "      <th>2</th>\n",
              "      <th>3</th>\n",
              "      <th>4</th>\n",
              "      <th>5</th>\n",
              "      <th>6</th>\n",
              "      <th>7</th>\n",
              "      <th>8</th>\n",
              "      <th>9</th>\n",
              "      <th>10</th>\n",
              "    </tr>\n",
              "  </thead>\n",
              "  <tbody>\n",
              "    <tr>\n",
              "      <th>0</th>\n",
              "      <td>1.000000</td>\n",
              "      <td>0.063450</td>\n",
              "      <td>0.862763</td>\n",
              "      <td>0.788230</td>\n",
              "      <td>-0.027188</td>\n",
              "      <td>0.179775</td>\n",
              "      <td>0.087307</td>\n",
              "      <td>0.115273</td>\n",
              "      <td>0.066242</td>\n",
              "      <td>-0.086260</td>\n",
              "      <td>0.082696</td>\n",
              "    </tr>\n",
              "    <tr>\n",
              "      <th>1</th>\n",
              "      <td>0.063450</td>\n",
              "      <td>1.000000</td>\n",
              "      <td>0.114072</td>\n",
              "      <td>0.068657</td>\n",
              "      <td>0.190507</td>\n",
              "      <td>0.182327</td>\n",
              "      <td>0.371302</td>\n",
              "      <td>0.379792</td>\n",
              "      <td>0.106700</td>\n",
              "      <td>0.102022</td>\n",
              "      <td>0.188042</td>\n",
              "    </tr>\n",
              "    <tr>\n",
              "      <th>2</th>\n",
              "      <td>0.862763</td>\n",
              "      <td>0.114072</td>\n",
              "      <td>1.000000</td>\n",
              "      <td>0.894963</td>\n",
              "      <td>-0.017462</td>\n",
              "      <td>0.237229</td>\n",
              "      <td>0.099052</td>\n",
              "      <td>0.111572</td>\n",
              "      <td>0.094061</td>\n",
              "      <td>-0.112858</td>\n",
              "      <td>0.109587</td>\n",
              "    </tr>\n",
              "    <tr>\n",
              "      <th>3</th>\n",
              "      <td>0.788230</td>\n",
              "      <td>0.068657</td>\n",
              "      <td>0.894963</td>\n",
              "      <td>1.000000</td>\n",
              "      <td>0.028944</td>\n",
              "      <td>0.289958</td>\n",
              "      <td>0.103077</td>\n",
              "      <td>0.101750</td>\n",
              "      <td>0.101566</td>\n",
              "      <td>-0.174656</td>\n",
              "      <td>0.116103</td>\n",
              "    </tr>\n",
              "    <tr>\n",
              "      <th>4</th>\n",
              "      <td>-0.027188</td>\n",
              "      <td>0.190507</td>\n",
              "      <td>-0.017462</td>\n",
              "      <td>0.028944</td>\n",
              "      <td>1.000000</td>\n",
              "      <td>0.228772</td>\n",
              "      <td>0.208382</td>\n",
              "      <td>0.240584</td>\n",
              "      <td>0.025349</td>\n",
              "      <td>-0.159207</td>\n",
              "      <td>0.082470</td>\n",
              "    </tr>\n",
              "    <tr>\n",
              "      <th>5</th>\n",
              "      <td>0.179775</td>\n",
              "      <td>0.182327</td>\n",
              "      <td>0.237229</td>\n",
              "      <td>0.289958</td>\n",
              "      <td>0.228772</td>\n",
              "      <td>1.000000</td>\n",
              "      <td>0.655329</td>\n",
              "      <td>0.627027</td>\n",
              "      <td>0.762869</td>\n",
              "      <td>0.151681</td>\n",
              "      <td>0.835498</td>\n",
              "    </tr>\n",
              "    <tr>\n",
              "      <th>6</th>\n",
              "      <td>0.087307</td>\n",
              "      <td>0.371302</td>\n",
              "      <td>0.099052</td>\n",
              "      <td>0.103077</td>\n",
              "      <td>0.208382</td>\n",
              "      <td>0.655329</td>\n",
              "      <td>1.000000</td>\n",
              "      <td>0.967271</td>\n",
              "      <td>0.439359</td>\n",
              "      <td>0.253785</td>\n",
              "      <td>0.634269</td>\n",
              "    </tr>\n",
              "    <tr>\n",
              "      <th>7</th>\n",
              "      <td>0.115273</td>\n",
              "      <td>0.379792</td>\n",
              "      <td>0.111572</td>\n",
              "      <td>0.101750</td>\n",
              "      <td>0.240584</td>\n",
              "      <td>0.627027</td>\n",
              "      <td>0.967271</td>\n",
              "      <td>1.000000</td>\n",
              "      <td>0.370412</td>\n",
              "      <td>0.192382</td>\n",
              "      <td>0.580600</td>\n",
              "    </tr>\n",
              "    <tr>\n",
              "      <th>8</th>\n",
              "      <td>0.066242</td>\n",
              "      <td>0.106700</td>\n",
              "      <td>0.094061</td>\n",
              "      <td>0.101566</td>\n",
              "      <td>0.025349</td>\n",
              "      <td>0.762869</td>\n",
              "      <td>0.439359</td>\n",
              "      <td>0.370412</td>\n",
              "      <td>1.000000</td>\n",
              "      <td>0.712543</td>\n",
              "      <td>0.970197</td>\n",
              "    </tr>\n",
              "    <tr>\n",
              "      <th>9</th>\n",
              "      <td>-0.086260</td>\n",
              "      <td>0.102022</td>\n",
              "      <td>-0.112858</td>\n",
              "      <td>-0.174656</td>\n",
              "      <td>-0.159207</td>\n",
              "      <td>0.151681</td>\n",
              "      <td>0.253785</td>\n",
              "      <td>0.192382</td>\n",
              "      <td>0.712543</td>\n",
              "      <td>1.000000</td>\n",
              "      <td>0.666500</td>\n",
              "    </tr>\n",
              "    <tr>\n",
              "      <th>10</th>\n",
              "      <td>0.082696</td>\n",
              "      <td>0.188042</td>\n",
              "      <td>0.109587</td>\n",
              "      <td>0.116103</td>\n",
              "      <td>0.082470</td>\n",
              "      <td>0.835498</td>\n",
              "      <td>0.634269</td>\n",
              "      <td>0.580600</td>\n",
              "      <td>0.970197</td>\n",
              "      <td>0.666500</td>\n",
              "      <td>1.000000</td>\n",
              "    </tr>\n",
              "  </tbody>\n",
              "</table>\n",
              "</div>"
            ],
            "text/plain": [
              "          0         1         2   ...        8         9         10\n",
              "0   1.000000  0.063450  0.862763  ...  0.066242 -0.086260  0.082696\n",
              "1   0.063450  1.000000  0.114072  ...  0.106700  0.102022  0.188042\n",
              "2   0.862763  0.114072  1.000000  ...  0.094061 -0.112858  0.109587\n",
              "3   0.788230  0.068657  0.894963  ...  0.101566 -0.174656  0.116103\n",
              "4  -0.027188  0.190507 -0.017462  ...  0.025349 -0.159207  0.082470\n",
              "5   0.179775  0.182327  0.237229  ...  0.762869  0.151681  0.835498\n",
              "6   0.087307  0.371302  0.099052  ...  0.439359  0.253785  0.634269\n",
              "7   0.115273  0.379792  0.111572  ...  0.370412  0.192382  0.580600\n",
              "8   0.066242  0.106700  0.094061  ...  1.000000  0.712543  0.970197\n",
              "9  -0.086260  0.102022 -0.112858  ...  0.712543  1.000000  0.666500\n",
              "10  0.082696  0.188042  0.109587  ...  0.970197  0.666500  1.000000\n",
              "\n",
              "[11 rows x 11 columns]"
            ]
          },
          "metadata": {
            "tags": []
          },
          "execution_count": 27
        }
      ]
    },
    {
      "cell_type": "code",
      "metadata": {
        "id": "Mz5gHkTRtHnH",
        "colab": {
          "base_uri": "https://localhost:8080/",
          "height": 390
        },
        "outputId": "d834d483-5660-4da4-c883-04b03e57a122"
      },
      "source": [
        "fig, ax = plt.subplots(figsize=(7,6))\n",
        "\n",
        "sns.heatmap(cov_mat_masc, cmap='winter', vmin=-1, vmax=1, ax=ax)\n",
        "ax.set_xticklabels(masc_data.columns)\n",
        "ax.set_yticklabels(masc_data.columns)\n",
        "ax.set_title('Male Covariance Matrix')\n",
        "\n",
        "plt.show()"
      ],
      "execution_count": 28,
      "outputs": [
        {
          "output_type": "display_data",
          "data": {
            "image/png": "[encoded data removed]",
            "text/plain": [
              "<Figure size 504x432 with 2 Axes>"
            ]
          },
          "metadata": {
            "tags": [],
            "needs_background": "light"
          }
        }
      ]
    },
    {
      "cell_type": "code",
      "metadata": {
        "id": "M9OP0vgktHnK",
        "colab": {
          "base_uri": "https://localhost:8080/"
        },
        "outputId": "4fc93b9d-65da-464c-8b80-31e327ced562"
      },
      "source": [
        "fa_masc = FactorAnalyzer(4, 'varimax')\n",
        "fa_masc.fit(masc_data)"
      ],
      "execution_count": 29,
      "outputs": [
        {
          "output_type": "execute_result",
          "data": {
            "text/plain": [
              "FactorAnalyzer(bounds=(0.005, 1), impute='median', is_corr_matrix=False,\n",
              "               method='minres', n_factors=4, rotation='varimax',\n",
              "               rotation_kwargs={}, use_smc=True)"
            ]
          },
          "metadata": {
            "tags": []
          },
          "execution_count": 29
        }
      ]
    },
    {
      "cell_type": "code",
      "metadata": {
        "id": "SVfbWzaOtHnN",
        "colab": {
          "base_uri": "https://localhost:8080/",
          "height": 390
        },
        "outputId": "eb144ffa-d7d2-4ddc-d875-b1b8a901adb1"
      },
      "source": [
        "evs_masc, _ = fa_masc.get_eigenvalues()\n",
        "values_masc = {'Eigenvalues': evs_masc, 'Explanation': [ev*100/sum(evs_masc) for ev in evs_masc]}\n",
        "pd.DataFrame(values_masc)"
      ],
      "execution_count": 30,
      "outputs": [
        {
          "output_type": "execute_result",
          "data": {
            "text/html": [
              "<div>\n",
              "<style scoped>\n",
              "    .dataframe tbody tr th:only-of-type {\n",
              "        vertical-align: middle;\n",
              "    }\n",
              "\n",
              "    .dataframe tbody tr th {\n",
              "        vertical-align: top;\n",
              "    }\n",
              "\n",
              "    .dataframe thead th {\n",
              "        text-align: right;\n",
              "    }\n",
              "</style>\n",
              "<table border=\"1\" class=\"dataframe\">\n",
              "  <thead>\n",
              "    <tr style=\"text-align: right;\">\n",
              "      <th></th>\n",
              "      <th>Eigenvalues</th>\n",
              "      <th>Explanation</th>\n",
              "    </tr>\n",
              "  </thead>\n",
              "  <tbody>\n",
              "    <tr>\n",
              "      <th>0</th>\n",
              "      <td>4.262346</td>\n",
              "      <td>38.748600</td>\n",
              "    </tr>\n",
              "    <tr>\n",
              "      <th>1</th>\n",
              "      <td>2.676002</td>\n",
              "      <td>24.327294</td>\n",
              "    </tr>\n",
              "    <tr>\n",
              "      <th>2</th>\n",
              "      <td>1.565704</td>\n",
              "      <td>14.233677</td>\n",
              "    </tr>\n",
              "    <tr>\n",
              "      <th>3</th>\n",
              "      <td>0.913675</td>\n",
              "      <td>8.306138</td>\n",
              "    </tr>\n",
              "    <tr>\n",
              "      <th>4</th>\n",
              "      <td>0.776747</td>\n",
              "      <td>7.061339</td>\n",
              "    </tr>\n",
              "    <tr>\n",
              "      <th>5</th>\n",
              "      <td>0.495240</td>\n",
              "      <td>4.502181</td>\n",
              "    </tr>\n",
              "    <tr>\n",
              "      <th>6</th>\n",
              "      <td>0.193564</td>\n",
              "      <td>1.759671</td>\n",
              "    </tr>\n",
              "    <tr>\n",
              "      <th>7</th>\n",
              "      <td>0.084326</td>\n",
              "      <td>0.766600</td>\n",
              "    </tr>\n",
              "    <tr>\n",
              "      <th>8</th>\n",
              "      <td>0.028531</td>\n",
              "      <td>0.259368</td>\n",
              "    </tr>\n",
              "    <tr>\n",
              "      <th>9</th>\n",
              "      <td>0.003005</td>\n",
              "      <td>0.027318</td>\n",
              "    </tr>\n",
              "    <tr>\n",
              "      <th>10</th>\n",
              "      <td>0.000860</td>\n",
              "      <td>0.007814</td>\n",
              "    </tr>\n",
              "  </tbody>\n",
              "</table>\n",
              "</div>"
            ],
            "text/plain": [
              "    Eigenvalues  Explanation\n",
              "0      4.262346    38.748600\n",
              "1      2.676002    24.327294\n",
              "2      1.565704    14.233677\n",
              "3      0.913675     8.306138\n",
              "4      0.776747     7.061339\n",
              "5      0.495240     4.502181\n",
              "6      0.193564     1.759671\n",
              "7      0.084326     0.766600\n",
              "8      0.028531     0.259368\n",
              "9      0.003005     0.027318\n",
              "10     0.000860     0.007814"
            ]
          },
          "metadata": {
            "tags": []
          },
          "execution_count": 30
        }
      ]
    },
    {
      "cell_type": "code",
      "metadata": {
        "id": "z4upkilctHnR",
        "colab": {
          "base_uri": "https://localhost:8080/",
          "height": 404
        },
        "outputId": "3062db33-caa3-47f6-bc54-6bab3302e4d3"
      },
      "source": [
        "fig, ax = plt.subplots(figsize=(10,6))\n",
        "\n",
        "ax.plot(evs_masc, '-o', c='Royalblue', )\n",
        "ax.yaxis.set_major_formatter(FormatStrFormatter('%.1f'))\n",
        "ax.set_title('Scree Plot Male')\n",
        "ax.set_xlabel('Factors')\n",
        "ax.set_ylabel('Eigenvalues')\n",
        "\n",
        "plt.show()"
      ],
      "execution_count": 31,
      "outputs": [
        {
          "output_type": "display_data",
          "data": {
            "image/png": "[encoded data removed]",
            "text/plain": [
              "<Figure size 720x432 with 1 Axes>"
            ]
          },
          "metadata": {
            "tags": [],
            "needs_background": "light"
          }
        }
      ]
    },
    {
      "cell_type": "code",
      "metadata": {
        "id": "mwsO5LXqtHnV",
        "colab": {
          "base_uri": "https://localhost:8080/",
          "height": 390
        },
        "outputId": "16a370e2-18a3-4ebd-f6c9-f88e9502aa31"
      },
      "source": [
        "communalities_masc = fa_masc.get_communalities()\n",
        "pd.DataFrame(communalities_masc, index = masc_data.columns, columns=['Communalities'])"
      ],
      "execution_count": 32,
      "outputs": [
        {
          "output_type": "execute_result",
          "data": {
            "text/html": [
              "<div>\n",
              "<style scoped>\n",
              "    .dataframe tbody tr th:only-of-type {\n",
              "        vertical-align: middle;\n",
              "    }\n",
              "\n",
              "    .dataframe tbody tr th {\n",
              "        vertical-align: top;\n",
              "    }\n",
              "\n",
              "    .dataframe thead th {\n",
              "        text-align: right;\n",
              "    }\n",
              "</style>\n",
              "<table border=\"1\" class=\"dataframe\">\n",
              "  <thead>\n",
              "    <tr style=\"text-align: right;\">\n",
              "      <th></th>\n",
              "      <th>Communalities</th>\n",
              "    </tr>\n",
              "  </thead>\n",
              "  <tbody>\n",
              "    <tr>\n",
              "      <th>rcc</th>\n",
              "      <td>0.765248</td>\n",
              "    </tr>\n",
              "    <tr>\n",
              "      <th>wcc</th>\n",
              "      <td>0.165982</td>\n",
              "    </tr>\n",
              "    <tr>\n",
              "      <th>hc</th>\n",
              "      <td>0.979033</td>\n",
              "    </tr>\n",
              "    <tr>\n",
              "      <th>hg</th>\n",
              "      <td>0.836807</td>\n",
              "    </tr>\n",
              "    <tr>\n",
              "      <th>ferr</th>\n",
              "      <td>0.127386</td>\n",
              "    </tr>\n",
              "    <tr>\n",
              "      <th>bmi</th>\n",
              "      <td>0.997247</td>\n",
              "    </tr>\n",
              "    <tr>\n",
              "      <th>ssf</th>\n",
              "      <td>0.936739</td>\n",
              "    </tr>\n",
              "    <tr>\n",
              "      <th>pcBfat</th>\n",
              "      <td>0.986913</td>\n",
              "    </tr>\n",
              "    <tr>\n",
              "      <th>lbm</th>\n",
              "      <td>0.996473</td>\n",
              "    </tr>\n",
              "    <tr>\n",
              "      <th>ht</th>\n",
              "      <td>0.997068</td>\n",
              "    </tr>\n",
              "    <tr>\n",
              "      <th>wt</th>\n",
              "      <td>0.997874</td>\n",
              "    </tr>\n",
              "  </tbody>\n",
              "</table>\n",
              "</div>"
            ],
            "text/plain": [
              "        Communalities\n",
              "rcc          0.765248\n",
              "wcc          0.165982\n",
              "hc           0.979033\n",
              "hg           0.836807\n",
              "ferr         0.127386\n",
              "bmi          0.997247\n",
              "ssf          0.936739\n",
              "pcBfat       0.986913\n",
              "lbm          0.996473\n",
              "ht           0.997068\n",
              "wt           0.997874"
            ]
          },
          "metadata": {
            "tags": []
          },
          "execution_count": 32
        }
      ]
    },
    {
      "cell_type": "code",
      "metadata": {
        "id": "CMJCkFTitHnY",
        "colab": {
          "base_uri": "https://localhost:8080/",
          "height": 390
        },
        "outputId": "1e1bfd8c-18bd-496b-8afa-682c06c17426"
      },
      "source": [
        "loadings_masc = fa_masc.loadings_\n",
        "pd.DataFrame(loadings_masc, index = masc_data.columns)"
      ],
      "execution_count": 33,
      "outputs": [
        {
          "output_type": "execute_result",
          "data": {
            "text/html": [
              "<div>\n",
              "<style scoped>\n",
              "    .dataframe tbody tr th:only-of-type {\n",
              "        vertical-align: middle;\n",
              "    }\n",
              "\n",
              "    .dataframe tbody tr th {\n",
              "        vertical-align: top;\n",
              "    }\n",
              "\n",
              "    .dataframe thead th {\n",
              "        text-align: right;\n",
              "    }\n",
              "</style>\n",
              "<table border=\"1\" class=\"dataframe\">\n",
              "  <thead>\n",
              "    <tr style=\"text-align: right;\">\n",
              "      <th></th>\n",
              "      <th>0</th>\n",
              "      <th>1</th>\n",
              "      <th>2</th>\n",
              "      <th>3</th>\n",
              "    </tr>\n",
              "  </thead>\n",
              "  <tbody>\n",
              "    <tr>\n",
              "      <th>rcc</th>\n",
              "      <td>0.014306</td>\n",
              "      <td>0.871677</td>\n",
              "      <td>0.065425</td>\n",
              "      <td>0.030695</td>\n",
              "    </tr>\n",
              "    <tr>\n",
              "      <th>wcc</th>\n",
              "      <td>0.046408</td>\n",
              "      <td>0.060343</td>\n",
              "      <td>0.400052</td>\n",
              "      <td>0.012071</td>\n",
              "    </tr>\n",
              "    <tr>\n",
              "      <th>hc</th>\n",
              "      <td>0.044237</td>\n",
              "      <td>0.986380</td>\n",
              "      <td>0.064228</td>\n",
              "      <td>0.002115</td>\n",
              "    </tr>\n",
              "    <tr>\n",
              "      <th>hg</th>\n",
              "      <td>0.093321</td>\n",
              "      <td>0.901765</td>\n",
              "      <td>0.035103</td>\n",
              "      <td>-0.116984</td>\n",
              "    </tr>\n",
              "    <tr>\n",
              "      <th>ferr</th>\n",
              "      <td>0.057462</td>\n",
              "      <td>-0.028451</td>\n",
              "      <td>0.232006</td>\n",
              "      <td>-0.263531</td>\n",
              "    </tr>\n",
              "    <tr>\n",
              "      <th>bmi</th>\n",
              "      <td>0.834295</td>\n",
              "      <td>0.176346</td>\n",
              "      <td>0.379483</td>\n",
              "      <td>-0.355098</td>\n",
              "    </tr>\n",
              "    <tr>\n",
              "      <th>ssf</th>\n",
              "      <td>0.346442</td>\n",
              "      <td>0.031515</td>\n",
              "      <td>0.902298</td>\n",
              "      <td>-0.039779</td>\n",
              "    </tr>\n",
              "    <tr>\n",
              "      <th>pcBfat</th>\n",
              "      <td>0.275364</td>\n",
              "      <td>0.044800</td>\n",
              "      <td>0.950390</td>\n",
              "      <td>-0.076415</td>\n",
              "    </tr>\n",
              "    <tr>\n",
              "      <th>lbm</th>\n",
              "      <td>0.954581</td>\n",
              "      <td>0.042039</td>\n",
              "      <td>0.133275</td>\n",
              "      <td>0.256354</td>\n",
              "    </tr>\n",
              "    <tr>\n",
              "      <th>ht</th>\n",
              "      <td>0.506917</td>\n",
              "      <td>-0.145211</td>\n",
              "      <td>0.134386</td>\n",
              "      <td>0.837232</td>\n",
              "    </tr>\n",
              "    <tr>\n",
              "      <th>wt</th>\n",
              "      <td>0.910314</td>\n",
              "      <td>0.046098</td>\n",
              "      <td>0.359413</td>\n",
              "      <td>0.194679</td>\n",
              "    </tr>\n",
              "  </tbody>\n",
              "</table>\n",
              "</div>"
            ],
            "text/plain": [
              "               0         1         2         3\n",
              "rcc     0.014306  0.871677  0.065425  0.030695\n",
              "wcc     0.046408  0.060343  0.400052  0.012071\n",
              "hc      0.044237  0.986380  0.064228  0.002115\n",
              "hg      0.093321  0.901765  0.035103 -0.116984\n",
              "ferr    0.057462 -0.028451  0.232006 -0.263531\n",
              "bmi     0.834295  0.176346  0.379483 -0.355098\n",
              "ssf     0.346442  0.031515  0.902298 -0.039779\n",
              "pcBfat  0.275364  0.044800  0.950390 -0.076415\n",
              "lbm     0.954581  0.042039  0.133275  0.256354\n",
              "ht      0.506917 -0.145211  0.134386  0.837232\n",
              "wt      0.910314  0.046098  0.359413  0.194679"
            ]
          },
          "metadata": {
            "tags": []
          },
          "execution_count": 33
        }
      ]
    },
    {
      "cell_type": "code",
      "metadata": {
        "id": "TainLeWKtHna",
        "colab": {
          "base_uri": "https://localhost:8080/",
          "height": 142
        },
        "outputId": "105b6e60-6d1c-40fd-f595-c02d5f6faccd"
      },
      "source": [
        "factor_variances_masc = fa_masc.get_factor_variance()\n",
        "pd.DataFrame(factor_variances_masc, index = ['Variance','Proportional variances','Cumulative variances'])"
      ],
      "execution_count": 34,
      "outputs": [
        {
          "output_type": "execute_result",
          "data": {
            "text/html": [
              "<div>\n",
              "<style scoped>\n",
              "    .dataframe tbody tr th:only-of-type {\n",
              "        vertical-align: middle;\n",
              "    }\n",
              "\n",
              "    .dataframe tbody tr th {\n",
              "        vertical-align: top;\n",
              "    }\n",
              "\n",
              "    .dataframe thead th {\n",
              "        text-align: right;\n",
              "    }\n",
              "</style>\n",
              "<table border=\"1\" class=\"dataframe\">\n",
              "  <thead>\n",
              "    <tr style=\"text-align: right;\">\n",
              "      <th></th>\n",
              "      <th>0</th>\n",
              "      <th>1</th>\n",
              "      <th>2</th>\n",
              "      <th>3</th>\n",
              "    </tr>\n",
              "  </thead>\n",
              "  <tbody>\n",
              "    <tr>\n",
              "      <th>Variance</th>\n",
              "      <td>2.905082</td>\n",
              "      <td>2.609475</td>\n",
              "      <td>2.249896</td>\n",
              "      <td>1.022317</td>\n",
              "    </tr>\n",
              "    <tr>\n",
              "      <th>Proportional variances</th>\n",
              "      <td>0.264098</td>\n",
              "      <td>0.237225</td>\n",
              "      <td>0.204536</td>\n",
              "      <td>0.092938</td>\n",
              "    </tr>\n",
              "    <tr>\n",
              "      <th>Cumulative variances</th>\n",
              "      <td>0.264098</td>\n",
              "      <td>0.501323</td>\n",
              "      <td>0.705859</td>\n",
              "      <td>0.798797</td>\n",
              "    </tr>\n",
              "  </tbody>\n",
              "</table>\n",
              "</div>"
            ],
            "text/plain": [
              "                               0         1         2         3\n",
              "Variance                2.905082  2.609475  2.249896  1.022317\n",
              "Proportional variances  0.264098  0.237225  0.204536  0.092938\n",
              "Cumulative variances    0.264098  0.501323  0.705859  0.798797"
            ]
          },
          "metadata": {
            "tags": []
          },
          "execution_count": 34
        }
      ]
    },
    {
      "cell_type": "code",
      "metadata": {
        "id": "wGrU7lQHtHnd",
        "colab": {
          "base_uri": "https://localhost:8080/",
          "height": 390
        },
        "outputId": "acc32a03-d336-490c-c2ab-57f2a7e3cda2"
      },
      "source": [
        "pca = PCA(2)\n",
        "masc_data_pca_scores = pca.fit_transform(masc_data_scaled)\n",
        "masc_data_pca_components = pca.components_\n",
        "pd.DataFrame(masc_data_pca_components.T, index = masc_data.columns)"
      ],
      "execution_count": 35,
      "outputs": [
        {
          "output_type": "execute_result",
          "data": {
            "text/html": [
              "<div>\n",
              "<style scoped>\n",
              "    .dataframe tbody tr th:only-of-type {\n",
              "        vertical-align: middle;\n",
              "    }\n",
              "\n",
              "    .dataframe tbody tr th {\n",
              "        vertical-align: top;\n",
              "    }\n",
              "\n",
              "    .dataframe thead th {\n",
              "        text-align: right;\n",
              "    }\n",
              "</style>\n",
              "<table border=\"1\" class=\"dataframe\">\n",
              "  <thead>\n",
              "    <tr style=\"text-align: right;\">\n",
              "      <th></th>\n",
              "      <th>0</th>\n",
              "      <th>1</th>\n",
              "    </tr>\n",
              "  </thead>\n",
              "  <tbody>\n",
              "    <tr>\n",
              "      <th>rcc</th>\n",
              "      <td>0.144820</td>\n",
              "      <td>0.527020</td>\n",
              "    </tr>\n",
              "    <tr>\n",
              "      <th>wcc</th>\n",
              "      <td>0.175976</td>\n",
              "      <td>0.001174</td>\n",
              "    </tr>\n",
              "    <tr>\n",
              "      <th>hc</th>\n",
              "      <td>0.162098</td>\n",
              "      <td>0.548767</td>\n",
              "    </tr>\n",
              "    <tr>\n",
              "      <th>hg</th>\n",
              "      <td>0.161412</td>\n",
              "      <td>0.538927</td>\n",
              "    </tr>\n",
              "    <tr>\n",
              "      <th>ferr</th>\n",
              "      <td>0.095280</td>\n",
              "      <td>-0.009543</td>\n",
              "    </tr>\n",
              "    <tr>\n",
              "      <th>bmi</th>\n",
              "      <td>0.420512</td>\n",
              "      <td>-0.002694</td>\n",
              "    </tr>\n",
              "    <tr>\n",
              "      <th>ssf</th>\n",
              "      <td>0.395032</td>\n",
              "      <td>-0.085323</td>\n",
              "    </tr>\n",
              "    <tr>\n",
              "      <th>pcBfat</th>\n",
              "      <td>0.379182</td>\n",
              "      <td>-0.064116</td>\n",
              "    </tr>\n",
              "    <tr>\n",
              "      <th>lbm</th>\n",
              "      <td>0.396983</td>\n",
              "      <td>-0.155902</td>\n",
              "    </tr>\n",
              "    <tr>\n",
              "      <th>ht</th>\n",
              "      <td>0.233051</td>\n",
              "      <td>-0.267075</td>\n",
              "    </tr>\n",
              "    <tr>\n",
              "      <th>wt</th>\n",
              "      <td>0.445065</td>\n",
              "      <td>-0.153418</td>\n",
              "    </tr>\n",
              "  </tbody>\n",
              "</table>\n",
              "</div>"
            ],
            "text/plain": [
              "               0         1\n",
              "rcc     0.144820  0.527020\n",
              "wcc     0.175976  0.001174\n",
              "hc      0.162098  0.548767\n",
              "hg      0.161412  0.538927\n",
              "ferr    0.095280 -0.009543\n",
              "bmi     0.420512 -0.002694\n",
              "ssf     0.395032 -0.085323\n",
              "pcBfat  0.379182 -0.064116\n",
              "lbm     0.396983 -0.155902\n",
              "ht      0.233051 -0.267075\n",
              "wt      0.445065 -0.153418"
            ]
          },
          "metadata": {
            "tags": []
          },
          "execution_count": 35
        }
      ]
    },
    {
      "cell_type": "code",
      "metadata": {
        "id": "94HUthGFtHnh"
      },
      "source": [
        "masc_data_pca_scores = pd.concat([pd.DataFrame(masc_data_pca_scores), atletas_masculinos['sport']], axis=1)"
      ],
      "execution_count": 36,
      "outputs": []
    },
    {
      "cell_type": "code",
      "metadata": {
        "id": "j-LcMy_dtHnk",
        "colab": {
          "base_uri": "https://localhost:8080/",
          "height": 621
        },
        "outputId": "ceb04cf3-fdae-4aed-a262-9b7d6881d840"
      },
      "source": [
        "fig, ax = plt.subplots(figsize=(10,10))\n",
        "\n",
        "masc_data_pca_scores['PC1'] = masc_data_pca_scores[0]/(masc_data_pca_scores[0].max() - masc_data_pca_scores[0].min())\n",
        "masc_data_pca_scores['PC2'] = masc_data_pca_scores[1]/(masc_data_pca_scores[1].max() - masc_data_pca_scores[1].min())\n",
        "\n",
        "for i,j in enumerate(masc_data.columns):\n",
        "  ax.arrow(0, 0, masc_data_pca_components[0][i], masc_data_pca_components[1][i], color='black', alpha=0.3, lw=1)\n",
        "  ax.text(masc_data_pca_components[0][i]*1.1, masc_data_pca_components[1][i]*1.1, j, color='black', ha='center', va='center')\n",
        "\n",
        "for name, group in masc_data_pca_scores.groupby('sport'):\n",
        "  sns.scatterplot(x='PC1', y='PC2', data=group, label=name, ax=ax)\n",
        "  points = group.drop(columns=[0,1,'sport']).values\n",
        "  hull = ConvexHull(points)\n",
        "  vertices = np.append(hull.vertices, hull.vertices[0])\n",
        "  ax.plot(points[vertices, 0], points[vertices, 1], alpha=0.4, lw=2)\n",
        "\n",
        "ax.set_xlim(-0.7,0.7)\n",
        "ax.set_ylim(-0.5,0.7)\n",
        "ax.set_xlabel('PC1')\n",
        "ax.set_ylabel('PC2')\n",
        "ax.set_title('Australian Male Athletes')\n",
        "\n",
        "plt.show()"
      ],
      "execution_count": 37,
      "outputs": [
        {
          "output_type": "display_data",
          "data": {
            "image/png": "[encoded data removed]",
            "text/plain": [
              "<Figure size 720x720 with 1 Axes>"
            ]
          },
          "metadata": {
            "tags": [],
            "needs_background": "light"
          }
        }
      ]
    }
  ]
}