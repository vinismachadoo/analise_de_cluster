{
  "nbformat": 4,
  "nbformat_minor": 0,
  "metadata": {
    "colab": {
      "name": "analise_multivariada.ipynb",
      "provenance": [],
      "include_colab_link": true
    },
    "kernelspec": {
      "name": "python3",
      "display_name": "Python 3"
    }
  },
  "cells": [
    {
      "cell_type": "markdown",
      "metadata": {
        "id": "view-in-github",
        "colab_type": "text"
      },
      "source": [
        "<a href=\"https://colab.research.google.com/github/vinismachadoo/analise_de_cluster/blob/main/analise_multivariada.ipynb\" target=\"_parent\"><img src=\"https://colab.research.google.com/assets/colab-badge.svg\" alt=\"Open In Colab\"/></a>"
      ]
    },
    {
      "cell_type": "code",
      "metadata": {
        "id": "BXL2weZSCr8T",
        "outputId": "4afc412c-b467-49da-d860-7acde0a5be66",
        "colab": {
          "base_uri": "https://localhost:8080/",
          "height": 51
        }
      },
      "source": [
        "!pip install factor_analyzer --quiet"
      ],
      "execution_count": 1,
      "outputs": [
        {
          "output_type": "stream",
          "text": [
            "\u001b[?25l\r\u001b[K     |████████▏                       | 10kB 12.5MB/s eta 0:00:01\r\u001b[K     |████████████████▍               | 20kB 1.7MB/s eta 0:00:01\r\u001b[K     |████████████████████████▌       | 30kB 2.1MB/s eta 0:00:01\r\u001b[K     |████████████████████████████████| 40kB 1.7MB/s \n",
            "\u001b[?25h  Building wheel for factor-analyzer (setup.py) ... \u001b[?25l\u001b[?25hdone\n"
          ],
          "name": "stdout"
        }
      ]
    },
    {
      "cell_type": "code",
      "metadata": {
        "id": "VuuxA95tDm49"
      },
      "source": [
        "from math import *\n",
        "import numpy as np\n",
        "import pandas as pd\n",
        "import matplotlib.pyplot as plt\n",
        "import seaborn as sns\n",
        "from matplotlib.ticker import FormatStrFormatter\n",
        "from factor_analyzer import *\n",
        "from sklearn.preprocessing import StandardScaler\n",
        "from sklearn.decomposition import PCA"
      ],
      "execution_count": 2,
      "outputs": []
    }
  ]
}